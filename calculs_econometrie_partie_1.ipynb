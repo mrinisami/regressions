{
 "cells": [
  {
   "cell_type": "code",
   "execution_count": 1,
   "metadata": {},
   "outputs": [],
   "source": [
    "import pandas as pd\n",
    "import numpy as np\n",
    "from sklearn.linear_model import LinearRegression as lp\n",
    "from scipy import stats\n",
    "import statsmodels.api as sm"
   ]
  },
  {
   "cell_type": "code",
   "execution_count": 2,
   "metadata": {},
   "outputs": [],
   "source": [
    "dt = pd.read_csv(\"TP1H2021.csv\", delimiter=None)\n",
    "dt_2 = pd.read_csv(\"3tp.csv\", delimiter=None)"
   ]
  },
  {
   "cell_type": "code",
   "execution_count": 3,
   "metadata": {},
   "outputs": [
    {
     "data": {
      "text/html": [
       "<div>\n",
       "<style scoped>\n",
       "    .dataframe tbody tr th:only-of-type {\n",
       "        vertical-align: middle;\n",
       "    }\n",
       "\n",
       "    .dataframe tbody tr th {\n",
       "        vertical-align: top;\n",
       "    }\n",
       "\n",
       "    .dataframe thead th {\n",
       "        text-align: right;\n",
       "    }\n",
       "</style>\n",
       "<table border=\"1\" class=\"dataframe\">\n",
       "  <thead>\n",
       "    <tr style=\"text-align: right;\">\n",
       "      <th></th>\n",
       "      <th>Rm_Rf</th>\n",
       "      <th>rSMB</th>\n",
       "      <th>rHML</th>\n",
       "      <th>rRMW</th>\n",
       "      <th>rCMA</th>\n",
       "      <th>Rs_Rf</th>\n",
       "    </tr>\n",
       "  </thead>\n",
       "  <tbody>\n",
       "    <tr>\n",
       "      <th>0</th>\n",
       "      <td>3.65</td>\n",
       "      <td>0.16</td>\n",
       "      <td>-0.57</td>\n",
       "      <td>2.10</td>\n",
       "      <td>-2.45</td>\n",
       "      <td>5.81</td>\n",
       "    </tr>\n",
       "    <tr>\n",
       "      <th>1</th>\n",
       "      <td>-4.94</td>\n",
       "      <td>0.18</td>\n",
       "      <td>1.23</td>\n",
       "      <td>1.75</td>\n",
       "      <td>0.63</td>\n",
       "      <td>-5.01</td>\n",
       "    </tr>\n",
       "    <tr>\n",
       "      <th>2</th>\n",
       "      <td>4.24</td>\n",
       "      <td>-0.96</td>\n",
       "      <td>-1.25</td>\n",
       "      <td>1.60</td>\n",
       "      <td>-1.41</td>\n",
       "      <td>4.40</td>\n",
       "    </tr>\n",
       "    <tr>\n",
       "      <th>3</th>\n",
       "      <td>2.32</td>\n",
       "      <td>1.44</td>\n",
       "      <td>-0.83</td>\n",
       "      <td>0.87</td>\n",
       "      <td>-0.55</td>\n",
       "      <td>3.46</td>\n",
       "    </tr>\n",
       "    <tr>\n",
       "      <th>4</th>\n",
       "      <td>-1.59</td>\n",
       "      <td>1.56</td>\n",
       "      <td>-0.98</td>\n",
       "      <td>-1.81</td>\n",
       "      <td>0.16</td>\n",
       "      <td>-3.65</td>\n",
       "    </tr>\n",
       "  </tbody>\n",
       "</table>\n",
       "</div>"
      ],
      "text/plain": [
       "   Rm_Rf  rSMB  rHML  rRMW  rCMA  Rs_Rf\n",
       "0   3.65  0.16 -0.57  2.10 -2.45   5.81\n",
       "1  -4.94  0.18  1.23  1.75  0.63  -5.01\n",
       "2   4.24 -0.96 -1.25  1.60 -1.41   4.40\n",
       "3   2.32  1.44 -0.83  0.87 -0.55   3.46\n",
       "4  -1.59  1.56 -0.98 -1.81  0.16  -3.65"
      ]
     },
     "execution_count": 3,
     "metadata": {},
     "output_type": "execute_result"
    }
   ],
   "source": [
    "dt.head(5)"
   ]
  },
  {
   "cell_type": "code",
   "execution_count": 4,
   "metadata": {},
   "outputs": [],
   "source": [
    "df = dt.to_numpy()\n",
    "df_2 = dt_2.to_numpy()"
   ]
  },
  {
   "cell_type": "code",
   "execution_count": 5,
   "metadata": {},
   "outputs": [],
   "source": [
    "#Création des vecteurs\n",
    "\n",
    "\n",
    "y = df[0:200,0]\n",
    "x = df[0:200, df.shape[1] -1]\n",
    "x = x.reshape(-1, 1)\n",
    "x2 = sm.add_constant(x)"
   ]
  },
  {
   "cell_type": "code",
   "execution_count": 6,
   "metadata": {},
   "outputs": [
    {
     "name": "stdout",
     "output_type": "stream",
     "text": [
      "Erreurs au carré: 15.9544, R2: 0.664, Intercept: 0.1469, Coeff: 0.882\n",
      "Erreurs au carré: 16.2635, R2: 0.6708, Intercept: 0, Coeff: 0.8877\n"
     ]
    }
   ],
   "source": [
    "#Question 1.1\n",
    "\n",
    "\n",
    "#Avec intercept\n",
    "model = sm.OLS(y, x2).fit()\n",
    "print(f\"Erreurs au carré: {round(model.mse_total, 4)}, R2: {round(model.rsquared_adj, 4)}, Intercept: {round(model.params[0], 4)}, Coeff: {round(model.params[1], 4)}\")\n",
    "#Sans intercept\n",
    "m_wo_int = sm.OLS(y, x).fit()\n",
    "print(f\"Erreurs au carré: {round(m_wo_int.mse_total, 4)}, R2: {round(m_wo_int.rsquared_adj, 4)}, Intercept: 0, Coeff: {round(m_wo_int.params[0], 4)}\")"
   ]
  },
  {
   "cell_type": "code",
   "execution_count": 7,
   "metadata": {},
   "outputs": [
    {
     "name": "stdout",
     "output_type": "stream",
     "text": [
      "W/ int: 0.3756 > 0.05, on ne peut pas rejeter H0\n"
     ]
    }
   ],
   "source": [
    "#Question 1.3\n",
    "\n",
    "\n",
    "print(f\"W/ int: {round(model.pvalues[0], 4)} > 0.05, on ne peut pas rejeter H0\")"
   ]
  },
  {
   "cell_type": "code",
   "execution_count": 8,
   "metadata": {},
   "outputs": [
    {
     "name": "stdout",
     "output_type": "stream",
     "text": [
      "La forme de la régression sera : u ** 2 = α + (αY ** 2)\n",
      "2.1969805258782893 < 3.8414588206941285, on ne peut pas rejeter H0, nous ne sommes pas en présence d'hétéroscédasticité\n"
     ]
    }
   ],
   "source": [
    "#Question 1.4\n",
    "print(f\"La forme de la régression sera : u ** 2 = \\u03b1 + (\\u03b1Y ** 2)\")\n",
    "\n",
    "white = sm.stats.diagnostic.het_white(model.resid, x2)\n",
    "lm = white[0]\n",
    "print(f\"{lm} < {stats.chi2.isf(0.05, 1)}, on ne peut pas rejeter H0, nous ne sommes pas en présence d'hétéroscédasticité\")"
   ]
  },
  {
   "cell_type": "code",
   "execution_count": 9,
   "metadata": {},
   "outputs": [
    {
     "name": "stdout",
     "output_type": "stream",
     "text": [
      "1.4996099404113279e-05 < 0.05, on peut rejeter H0\n"
     ]
    }
   ],
   "source": [
    "#Question 1.5 régression linéaire\n",
    "\n",
    "res_t_1 = sm.add_constant(model.resid[1:]) ** 2\n",
    "breusch = sm.stats.diagnostic.het_breuschpagan(model.resid[0:model.resid.shape[0]-1], res_t_1)\n",
    "p_value_lm = breusch[1]\n",
    "print(f\"{p_value_lm} < 0.05, on peut rejeter H0\")"
   ]
  },
  {
   "cell_type": "code",
   "execution_count": 10,
   "metadata": {},
   "outputs": [],
   "source": [
    "smb = np.atleast_2d(df[0:200, 1]).T\n",
    "hml = np.atleast_2d(df[0:200, 2]).T\n",
    "x_mat = sm.add_constant(np.hstack((x, smb, hml)))"
   ]
  },
  {
   "cell_type": "code",
   "execution_count": 11,
   "metadata": {},
   "outputs": [],
   "source": [
    "#Question 2.2\n",
    "\n",
    "\n",
    "triv_model = sm.OLS(y, x_mat).fit()\n",
    "#triv_model.summary(), triv_model.mse_total"
   ]
  },
  {
   "cell_type": "code",
   "execution_count": 12,
   "metadata": {},
   "outputs": [
    {
     "data": {
      "text/plain": [
       "True"
      ]
     },
     "execution_count": 12,
     "metadata": {},
     "output_type": "execute_result"
    }
   ],
   "source": [
    "#Test pour hétéroscédasticité\n",
    "triv_betas = np.array(([triv_model.params[1], triv_model.params[2], triv_model.params[3]]))\n",
    "triv_res = np.ones(x_mat.shape[0])\n",
    "for el in np.arange(y.shape[0]):\n",
    "    triv_res[el] = y[el] - (triv_model.params[0] + triv_betas @ x_mat[el, 1:])\n",
    "triv_res = triv_res ** 2\n",
    "#White test\n",
    "triv_bp = sm.stats.diagnostic.het_breuschpagan(triv_model.resid, x_mat)\n",
    "triv_bp[0] < stats.chi2.isf(0.05, 3) #on ne peut donc pas rejeter H0"
   ]
  },
  {
   "cell_type": "code",
   "execution_count": null,
   "metadata": {},
   "outputs": [],
   "source": [
    "rmw = np.atleast_2d(df[0:200, 3]).T\n",
    "cma = np.atleast_2d(df[0:200, 4]).T\n",
    "x_quint = np.hstack((x_mat, rmw, cma))\n",
    "quint_model = sm.OLS(y, x_quint).fit()\n",
    "#quint_model.summary(), quint_model.mse_total"
   ]
  },
  {
   "cell_type": "code",
   "execution_count": 14,
   "metadata": {},
   "outputs": [
    {
     "data": {
      "text/plain": [
       "True"
      ]
     },
     "execution_count": 14,
     "metadata": {},
     "output_type": "execute_result"
    }
   ],
   "source": [
    "#Question 2.6 check for heteroscedasticity in 5 variable model\n",
    "\n",
    "\n",
    "quint_bp = sm.stats.diagnostic.het_breuschpagan(quint_model.resid, x_quint)\n",
    "quint_bp[0] < stats.chi2.isf(0.05, 5) #on ne peut pas rejeter h0"
   ]
  },
  {
   "cell_type": "code",
   "execution_count": 15,
   "metadata": {},
   "outputs": [
    {
     "data": {
      "text/html": [
       "<div>\n",
       "<style scoped>\n",
       "    .dataframe tbody tr th:only-of-type {\n",
       "        vertical-align: middle;\n",
       "    }\n",
       "\n",
       "    .dataframe tbody tr th {\n",
       "        vertical-align: top;\n",
       "    }\n",
       "\n",
       "    .dataframe thead th {\n",
       "        text-align: right;\n",
       "    }\n",
       "</style>\n",
       "<table border=\"1\" class=\"dataframe\">\n",
       "  <thead>\n",
       "    <tr style=\"text-align: right;\">\n",
       "      <th></th>\n",
       "      <th>R</th>\n",
       "      <th>NoComp</th>\n",
       "      <th>Industrie</th>\n",
       "      <th>Actifs</th>\n",
       "      <th>Dette</th>\n",
       "      <th>Ventes</th>\n",
       "      <th>CF</th>\n",
       "      <th>CV</th>\n",
       "    </tr>\n",
       "  </thead>\n",
       "  <tbody>\n",
       "    <tr>\n",
       "      <th>0</th>\n",
       "      <td>0.05314</td>\n",
       "      <td>1</td>\n",
       "      <td>1</td>\n",
       "      <td>485.62</td>\n",
       "      <td>335.34</td>\n",
       "      <td>262.44</td>\n",
       "      <td>94.32</td>\n",
       "      <td>157.20</td>\n",
       "    </tr>\n",
       "    <tr>\n",
       "      <th>1</th>\n",
       "      <td>0.05449</td>\n",
       "      <td>2</td>\n",
       "      <td>1</td>\n",
       "      <td>227.24</td>\n",
       "      <td>154.36</td>\n",
       "      <td>381.36</td>\n",
       "      <td>266.70</td>\n",
       "      <td>209.55</td>\n",
       "    </tr>\n",
       "    <tr>\n",
       "      <th>2</th>\n",
       "      <td>0.05240</td>\n",
       "      <td>3</td>\n",
       "      <td>1</td>\n",
       "      <td>445.31</td>\n",
       "      <td>449.45</td>\n",
       "      <td>1090.25</td>\n",
       "      <td>261.60</td>\n",
       "      <td>283.40</td>\n",
       "    </tr>\n",
       "    <tr>\n",
       "      <th>3</th>\n",
       "      <td>0.05621</td>\n",
       "      <td>4</td>\n",
       "      <td>1</td>\n",
       "      <td>346.97</td>\n",
       "      <td>291.48</td>\n",
       "      <td>142.27</td>\n",
       "      <td>46.86</td>\n",
       "      <td>25.56</td>\n",
       "    </tr>\n",
       "    <tr>\n",
       "      <th>4</th>\n",
       "      <td>0.03885</td>\n",
       "      <td>5</td>\n",
       "      <td>1</td>\n",
       "      <td>308.67</td>\n",
       "      <td>231.75</td>\n",
       "      <td>621.09</td>\n",
       "      <td>37.26</td>\n",
       "      <td>298.08</td>\n",
       "    </tr>\n",
       "  </tbody>\n",
       "</table>\n",
       "</div>"
      ],
      "text/plain": [
       "         R  NoComp  Industrie  Actifs   Dette   Ventes      CF      CV\n",
       "0  0.05314       1          1  485.62  335.34   262.44   94.32  157.20\n",
       "1  0.05449       2          1  227.24  154.36   381.36  266.70  209.55\n",
       "2  0.05240       3          1  445.31  449.45  1090.25  261.60  283.40\n",
       "3  0.05621       4          1  346.97  291.48   142.27   46.86   25.56\n",
       "4  0.03885       5          1  308.67  231.75   621.09   37.26  298.08"
      ]
     },
     "execution_count": 15,
     "metadata": {},
     "output_type": "execute_result"
    }
   ],
   "source": [
    "dt_2.head(5)"
   ]
  },
  {
   "cell_type": "code",
   "execution_count": 16,
   "metadata": {},
   "outputs": [],
   "source": [
    "int_y = df_2[0:,0]\n",
    "d_a = np.atleast_2d(np.divide(df_2[0:,4], df_2[0:,3])).T\n",
    "d_v = np.atleast_2d(np.divide(df_2[0:,4], df_2[0:,5])).T\n",
    "cf_v = np.atleast_2d(np.divide(df_2[0:,6], df_2[0:,5])).T\n",
    "cf_a = np.atleast_2d(np.divide(df_2[0:,6], df_2[0:,3])).T\n",
    "int_x = sm.add_constant(np.hstack((d_a, d_v, cf_v, cf_a)))"
   ]
  },
  {
   "cell_type": "code",
   "execution_count": 17,
   "metadata": {},
   "outputs": [],
   "source": [
    "#3.1 OLS\n",
    "\n",
    "debt_r = sm.OLS(int_y, int_x).fit()\n",
    "#debt_r.summary()"
   ]
  },
  {
   "cell_type": "code",
   "execution_count": null,
   "metadata": {},
   "outputs": [],
   "source": []
  },
  {
   "cell_type": "code",
   "execution_count": null,
   "metadata": {},
   "outputs": [],
   "source": []
  }
 ],
 "metadata": {
  "kernelspec": {
   "display_name": "Python 3",
   "language": "python",
   "name": "python3"
  },
  "language_info": {
   "codemirror_mode": {
    "name": "ipython",
    "version": 3
   },
   "file_extension": ".py",
   "mimetype": "text/x-python",
   "name": "python",
   "nbconvert_exporter": "python",
   "pygments_lexer": "ipython3",
   "version": "3.7.0"
  }
 },
 "nbformat": 4,
 "nbformat_minor": 4
}
