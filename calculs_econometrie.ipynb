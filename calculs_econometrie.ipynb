{
 "cells": [
  {
   "cell_type": "code",
   "execution_count": 2,
   "metadata": {},
   "outputs": [],
   "source": [
    "import pandas as pd\n",
    "import numpy as np\n",
    "from sklearn.linear_model import LinearRegression as lp\n",
    "from scipy import stats\n",
    "import statsmodels.api as sm\n",
    "from linearmodels import PanelOLS\n",
    "from linearmodels import RandomEffects\n",
    "from linearmodels import BetweenOLS\n",
    "from matplotlib import pyplot as plt"
   ]
  },
  {
   "cell_type": "code",
   "execution_count": 2,
   "metadata": {},
   "outputs": [],
   "source": [
    "dt = pd.read_csv(\"TP1H2021.csv\", delimiter=None)\n",
    "dt_2 = pd.read_csv(\"3tp.csv\", delimiter=None)\n",
    "df_3 = pd.read_csv(\"donnes2.csv\")\n",
    "df_t = pd.read_csv(\"donnes2.csv\")"
   ]
  },
  {
   "cell_type": "code",
   "execution_count": 3,
   "metadata": {},
   "outputs": [
    {
     "data": {
      "text/html": [
       "<div>\n",
       "<style scoped>\n",
       "    .dataframe tbody tr th:only-of-type {\n",
       "        vertical-align: middle;\n",
       "    }\n",
       "\n",
       "    .dataframe tbody tr th {\n",
       "        vertical-align: top;\n",
       "    }\n",
       "\n",
       "    .dataframe thead th {\n",
       "        text-align: right;\n",
       "    }\n",
       "</style>\n",
       "<table border=\"1\" class=\"dataframe\">\n",
       "  <thead>\n",
       "    <tr style=\"text-align: right;\">\n",
       "      <th></th>\n",
       "      <th>Rm_Rf</th>\n",
       "      <th>rSMB</th>\n",
       "      <th>rHML</th>\n",
       "      <th>rRMW</th>\n",
       "      <th>rCMA</th>\n",
       "      <th>Rs_Rf</th>\n",
       "    </tr>\n",
       "  </thead>\n",
       "  <tbody>\n",
       "    <tr>\n",
       "      <th>0</th>\n",
       "      <td>3.65</td>\n",
       "      <td>0.16</td>\n",
       "      <td>-0.57</td>\n",
       "      <td>2.10</td>\n",
       "      <td>-2.45</td>\n",
       "      <td>5.81</td>\n",
       "    </tr>\n",
       "    <tr>\n",
       "      <th>1</th>\n",
       "      <td>-4.94</td>\n",
       "      <td>0.18</td>\n",
       "      <td>1.23</td>\n",
       "      <td>1.75</td>\n",
       "      <td>0.63</td>\n",
       "      <td>-5.01</td>\n",
       "    </tr>\n",
       "    <tr>\n",
       "      <th>2</th>\n",
       "      <td>4.24</td>\n",
       "      <td>-0.96</td>\n",
       "      <td>-1.25</td>\n",
       "      <td>1.60</td>\n",
       "      <td>-1.41</td>\n",
       "      <td>4.40</td>\n",
       "    </tr>\n",
       "    <tr>\n",
       "      <th>3</th>\n",
       "      <td>2.32</td>\n",
       "      <td>1.44</td>\n",
       "      <td>-0.83</td>\n",
       "      <td>0.87</td>\n",
       "      <td>-0.55</td>\n",
       "      <td>3.46</td>\n",
       "    </tr>\n",
       "    <tr>\n",
       "      <th>4</th>\n",
       "      <td>-1.59</td>\n",
       "      <td>1.56</td>\n",
       "      <td>-0.98</td>\n",
       "      <td>-1.81</td>\n",
       "      <td>0.16</td>\n",
       "      <td>-3.65</td>\n",
       "    </tr>\n",
       "  </tbody>\n",
       "</table>\n",
       "</div>"
      ],
      "text/plain": [
       "   Rm_Rf  rSMB  rHML  rRMW  rCMA  Rs_Rf\n",
       "0   3.65  0.16 -0.57  2.10 -2.45   5.81\n",
       "1  -4.94  0.18  1.23  1.75  0.63  -5.01\n",
       "2   4.24 -0.96 -1.25  1.60 -1.41   4.40\n",
       "3   2.32  1.44 -0.83  0.87 -0.55   3.46\n",
       "4  -1.59  1.56 -0.98 -1.81  0.16  -3.65"
      ]
     },
     "execution_count": 3,
     "metadata": {},
     "output_type": "execute_result"
    }
   ],
   "source": [
    "dt.head(5)"
   ]
  },
  {
   "cell_type": "code",
   "execution_count": 4,
   "metadata": {},
   "outputs": [],
   "source": [
    "df = dt.to_numpy()\n",
    "df_2 = dt_2.to_numpy()"
   ]
  },
  {
   "cell_type": "code",
   "execution_count": 5,
   "metadata": {},
   "outputs": [],
   "source": [
    "#Création des vecteurs\n",
    "\n",
    "\n",
    "x = df[0:200,0]\n",
    "y = df[0:200, df.shape[1] -1]\n",
    "x = x.reshape(-1, 1)\n",
    "x2 = sm.add_constant(x)"
   ]
  },
  {
   "cell_type": "code",
   "execution_count": 6,
   "metadata": {},
   "outputs": [
    {
     "name": "stdout",
     "output_type": "stream",
     "text": [
      "Erreurs au carré: 13.6541, R2: 0.664, Intercept: 0.0698, Coeff: 0.7548\n",
      "Erreurs au carré: 13.878, R2: 0.6708, Intercept: 0, Coeff: 0.7575\n"
     ]
    }
   ],
   "source": [
    "#Question 1.1\n",
    "\n",
    "\n",
    "#Avec intercept\n",
    "model = sm.OLS(y, x2).fit()\n",
    "print(f\"Erreurs au carré: {round(model.mse_total, 4)}, R2: {round(model.rsquared_adj, 4)}, Intercept: {round(model.params[0], 4)}, Coeff: {round(model.params[1], 4)}\")\n",
    "#Sans intercept\n",
    "m_wo_int = sm.OLS(y, x).fit()\n",
    "print(f\"Erreurs au carré: {round(m_wo_int.mse_total, 4)}, R2: {round(m_wo_int.rsquared_adj, 4)}, Intercept: 0, Coeff: {round(m_wo_int.params[0], 4)}\")"
   ]
  },
  {
   "cell_type": "code",
   "execution_count": 7,
   "metadata": {},
   "outputs": [
    {
     "data": {
      "text/html": [
       "<table class=\"simpletable\">\n",
       "<caption>OLS Regression Results</caption>\n",
       "<tr>\n",
       "  <th>Dep. Variable:</th>            <td>y</td>        <th>  R-squared:         </th> <td>   0.666</td>\n",
       "</tr>\n",
       "<tr>\n",
       "  <th>Model:</th>                   <td>OLS</td>       <th>  Adj. R-squared:    </th> <td>   0.664</td>\n",
       "</tr>\n",
       "<tr>\n",
       "  <th>Method:</th>             <td>Least Squares</td>  <th>  F-statistic:       </th> <td>   394.3</td>\n",
       "</tr>\n",
       "<tr>\n",
       "  <th>Date:</th>             <td>Fri, 23 Apr 2021</td> <th>  Prob (F-statistic):</th> <td>5.35e-49</td>\n",
       "</tr>\n",
       "<tr>\n",
       "  <th>Time:</th>                 <td>09:08:24</td>     <th>  Log-Likelihood:    </th> <td> -435.12</td>\n",
       "</tr>\n",
       "<tr>\n",
       "  <th>No. Observations:</th>      <td>   200</td>      <th>  AIC:               </th> <td>   874.2</td>\n",
       "</tr>\n",
       "<tr>\n",
       "  <th>Df Residuals:</th>          <td>   198</td>      <th>  BIC:               </th> <td>   880.8</td>\n",
       "</tr>\n",
       "<tr>\n",
       "  <th>Df Model:</th>              <td>     1</td>      <th>                     </th>     <td> </td>   \n",
       "</tr>\n",
       "<tr>\n",
       "  <th>Covariance Type:</th>      <td>nonrobust</td>    <th>                     </th>     <td> </td>   \n",
       "</tr>\n",
       "</table>\n",
       "<table class=\"simpletable\">\n",
       "<tr>\n",
       "    <td></td>       <th>coef</th>     <th>std err</th>      <th>t</th>      <th>P>|t|</th>  <th>[0.025</th>    <th>0.975]</th>  \n",
       "</tr>\n",
       "<tr>\n",
       "  <th>const</th> <td>    0.0698</td> <td>    0.153</td> <td>    0.455</td> <td> 0.650</td> <td>   -0.233</td> <td>    0.372</td>\n",
       "</tr>\n",
       "<tr>\n",
       "  <th>x1</th>    <td>    0.7548</td> <td>    0.038</td> <td>   19.857</td> <td> 0.000</td> <td>    0.680</td> <td>    0.830</td>\n",
       "</tr>\n",
       "</table>\n",
       "<table class=\"simpletable\">\n",
       "<tr>\n",
       "  <th>Omnibus:</th>       <td>10.373</td> <th>  Durbin-Watson:     </th> <td>   1.889</td>\n",
       "</tr>\n",
       "<tr>\n",
       "  <th>Prob(Omnibus):</th> <td> 0.006</td> <th>  Jarque-Bera (JB):  </th> <td>  23.108</td>\n",
       "</tr>\n",
       "<tr>\n",
       "  <th>Skew:</th>          <td> 0.004</td> <th>  Prob(JB):          </th> <td>9.60e-06</td>\n",
       "</tr>\n",
       "<tr>\n",
       "  <th>Kurtosis:</th>      <td> 4.665</td> <th>  Cond. No.          </th> <td>    4.09</td>\n",
       "</tr>\n",
       "</table><br/><br/>Notes:<br/>[1] Standard Errors assume that the covariance matrix of the errors is correctly specified."
      ],
      "text/plain": [
       "<class 'statsmodels.iolib.summary.Summary'>\n",
       "\"\"\"\n",
       "                            OLS Regression Results                            \n",
       "==============================================================================\n",
       "Dep. Variable:                      y   R-squared:                       0.666\n",
       "Model:                            OLS   Adj. R-squared:                  0.664\n",
       "Method:                 Least Squares   F-statistic:                     394.3\n",
       "Date:                Fri, 23 Apr 2021   Prob (F-statistic):           5.35e-49\n",
       "Time:                        09:08:24   Log-Likelihood:                -435.12\n",
       "No. Observations:                 200   AIC:                             874.2\n",
       "Df Residuals:                     198   BIC:                             880.8\n",
       "Df Model:                           1                                         \n",
       "Covariance Type:            nonrobust                                         \n",
       "==============================================================================\n",
       "                 coef    std err          t      P>|t|      [0.025      0.975]\n",
       "------------------------------------------------------------------------------\n",
       "const          0.0698      0.153      0.455      0.650      -0.233       0.372\n",
       "x1             0.7548      0.038     19.857      0.000       0.680       0.830\n",
       "==============================================================================\n",
       "Omnibus:                       10.373   Durbin-Watson:                   1.889\n",
       "Prob(Omnibus):                  0.006   Jarque-Bera (JB):               23.108\n",
       "Skew:                           0.004   Prob(JB):                     9.60e-06\n",
       "Kurtosis:                       4.665   Cond. No.                         4.09\n",
       "==============================================================================\n",
       "\n",
       "Notes:\n",
       "[1] Standard Errors assume that the covariance matrix of the errors is correctly specified.\n",
       "\"\"\""
      ]
     },
     "execution_count": 7,
     "metadata": {},
     "output_type": "execute_result"
    }
   ],
   "source": [
    "model.summary()"
   ]
  },
  {
   "cell_type": "code",
   "execution_count": 8,
   "metadata": {},
   "outputs": [
    {
     "data": {
      "text/plain": [
       "(3.98429969254322, 3.685901693954954)"
      ]
     },
     "execution_count": 8,
     "metadata": {},
     "output_type": "execute_result"
    }
   ],
   "source": [
    "#écarts-types\n",
    "\n",
    "market_std = np.std(x)\n",
    "asset_std = np.std(y)\n",
    "market_std, asset_std"
   ]
  },
  {
   "cell_type": "code",
   "execution_count": 9,
   "metadata": {},
   "outputs": [
    {
     "name": "stdout",
     "output_type": "stream",
     "text": [
      "W/ int: 0.6496 > 0.05, on ne peut pas rejeter H0\n"
     ]
    }
   ],
   "source": [
    "#Question 1.3\n",
    "\n",
    "\n",
    "print(f\"W/ int: {round(model.pvalues[0], 4)} > 0.05, on ne peut pas rejeter H0\")"
   ]
  },
  {
   "cell_type": "code",
   "execution_count": 10,
   "metadata": {},
   "outputs": [
    {
     "name": "stdout",
     "output_type": "stream",
     "text": [
      "La forme de la régression sera : u ** 2 = α + (αY ** 2)\n",
      "14.131398206695934 > 3.8414588206941285, on peut rejeter H0, nous sommes en présence d'hétéroscédasticité\n"
     ]
    }
   ],
   "source": [
    "#Question 1.4\n",
    "print(f\"La forme de la régression sera : u ** 2 = \\u03b1 + (\\u03b1Y ** 2)\")\n",
    "\n",
    "white = sm.stats.diagnostic.het_white(model.resid, x2)\n",
    "lm = white[0]\n",
    "print(f\"{lm} > {stats.chi2.isf(0.05, 1)}, on peut rejeter H0, nous sommes en présence d'hétéroscédasticité\")"
   ]
  },
  {
   "cell_type": "code",
   "execution_count": 101,
   "metadata": {},
   "outputs": [
    {
     "data": {
      "text/plain": [
       "(28.82564172408319,\n",
       " 7.919564961345959e-08,\n",
       " 33.36960677963687,\n",
       " 2.9355068180412313e-08)"
      ]
     },
     "execution_count": 101,
     "metadata": {},
     "output_type": "execute_result"
    }
   ],
   "source": [
    "#Question 1.5 régression linéaire\n",
    "\n",
    "res_t_1 = sm.add_constant(model.resid[1:]) ** 2\n",
    "breusch = sm.stats.diagnostic.het_breuschpagan(model.resid[:-1] ** 2, res_t_1)\n",
    "p_value_lm = breusch[1]\n",
    "show = sm.OLS(model.resid[:-1] ** 2, res_t_1).fit()\n",
    "sm.stats.diagnostic.het_arch(model.resid, nlags=1)"
   ]
  },
  {
   "cell_type": "code",
   "execution_count": 12,
   "metadata": {},
   "outputs": [],
   "source": [
    "smb = np.atleast_2d(df[0:200, 1]).T\n",
    "hml = np.atleast_2d(df[0:200, 2]).T\n",
    "x_mat = sm.add_constant(np.hstack((x, smb, hml)))"
   ]
  },
  {
   "cell_type": "code",
   "execution_count": 13,
   "metadata": {},
   "outputs": [
    {
     "data": {
      "text/plain": [
       "(<class 'statsmodels.iolib.summary.Summary'>\n",
       " \"\"\"\n",
       "                             OLS Regression Results                            \n",
       " ==============================================================================\n",
       " Dep. Variable:                      y   R-squared:                       0.734\n",
       " Model:                            OLS   Adj. R-squared:                  0.730\n",
       " Method:                 Least Squares   F-statistic:                     180.2\n",
       " Date:                Fri, 23 Apr 2021   Prob (F-statistic):           4.27e-56\n",
       " Time:                        09:08:24   Log-Likelihood:                -412.28\n",
       " No. Observations:                 200   AIC:                             832.6\n",
       " Df Residuals:                     196   BIC:                             845.8\n",
       " Df Model:                           3                                         \n",
       " Covariance Type:            nonrobust                                         \n",
       " ==============================================================================\n",
       "                  coef    std err          t      P>|t|      [0.025      0.975]\n",
       " ------------------------------------------------------------------------------\n",
       " const         -0.1571      0.142     -1.105      0.270      -0.437       0.123\n",
       " x1             0.8754      0.038     22.940      0.000       0.800       0.951\n",
       " x2            -0.0199      0.042     -0.475      0.635      -0.103       0.063\n",
       " x3             0.3345      0.050      6.707      0.000       0.236       0.433\n",
       " ==============================================================================\n",
       " Omnibus:                        6.487   Durbin-Watson:                   1.884\n",
       " Prob(Omnibus):                  0.039   Jarque-Bera (JB):                9.655\n",
       " Skew:                          -0.130   Prob(JB):                      0.00801\n",
       " Kurtosis:                       4.045   Cond. No.                         4.74\n",
       " ==============================================================================\n",
       " \n",
       " Notes:\n",
       " [1] Standard Errors assume that the covariance matrix of the errors is correctly specified.\n",
       " \"\"\",\n",
       " 13.654142007537686)"
      ]
     },
     "execution_count": 13,
     "metadata": {},
     "output_type": "execute_result"
    }
   ],
   "source": [
    "#Question 2.2\n",
    "\n",
    "\n",
    "triv_model = sm.OLS(y, x_mat).fit()\n",
    "triv_model.summary(), triv_model.mse_total"
   ]
  },
  {
   "cell_type": "code",
   "execution_count": 14,
   "metadata": {},
   "outputs": [
    {
     "data": {
      "text/plain": [
       "True"
      ]
     },
     "execution_count": 14,
     "metadata": {},
     "output_type": "execute_result"
    }
   ],
   "source": [
    "#Test pour hétéroscédasticité\n",
    "triv_betas = np.array(([triv_model.params[1], triv_model.params[2], triv_model.params[3]]))\n",
    "triv_res = np.ones(x_mat.shape[0])\n",
    "for el in np.arange(y.shape[0]):\n",
    "    triv_res[el] = y[el] - (triv_model.params[0] + triv_betas @ x_mat[el, 1:])\n",
    "triv_res = triv_res ** 2\n",
    "#White test\n",
    "triv_bp = sm.stats.diagnostic.het_breuschpagan(triv_model.resid, x_mat)\n",
    "triv_bp[0] < stats.chi2.isf(0.05, 3) #on ne peut donc pas rejeter H0"
   ]
  },
  {
   "cell_type": "code",
   "execution_count": 15,
   "metadata": {},
   "outputs": [
    {
     "data": {
      "text/plain": [
       "(<class 'statsmodels.iolib.summary.Summary'>\n",
       " \"\"\"\n",
       "                             OLS Regression Results                            \n",
       " ==============================================================================\n",
       " Dep. Variable:                      y   R-squared:                       0.827\n",
       " Model:                            OLS   Adj. R-squared:                  0.822\n",
       " Method:                 Least Squares   F-statistic:                     185.0\n",
       " Date:                Fri, 23 Apr 2021   Prob (F-statistic):           8.54e-72\n",
       " Time:                        09:08:24   Log-Likelihood:                -369.48\n",
       " No. Observations:                 200   AIC:                             751.0\n",
       " Df Residuals:                     194   BIC:                             770.7\n",
       " Df Model:                           5                                         \n",
       " Covariance Type:            nonrobust                                         \n",
       " ==============================================================================\n",
       "                  coef    std err          t      P>|t|      [0.025      0.975]\n",
       " ------------------------------------------------------------------------------\n",
       " const         -0.4042      0.119     -3.403      0.001      -0.638      -0.170\n",
       " x1             1.0114      0.035     28.678      0.000       0.942       1.081\n",
       " x2             0.1592      0.039      4.123      0.000       0.083       0.235\n",
       " x3             0.0805      0.060      1.345      0.180      -0.038       0.199\n",
       " x4             0.5318      0.052     10.156      0.000       0.428       0.635\n",
       " x5             0.1386      0.074      1.882      0.061      -0.007       0.284\n",
       " ==============================================================================\n",
       " Omnibus:                       12.148   Durbin-Watson:                   2.129\n",
       " Prob(Omnibus):                  0.002   Jarque-Bera (JB):               29.895\n",
       " Skew:                           0.075   Prob(JB):                     3.22e-07\n",
       " Kurtosis:                       4.888   Cond. No.                         5.85\n",
       " ==============================================================================\n",
       " \n",
       " Notes:\n",
       " [1] Standard Errors assume that the covariance matrix of the errors is correctly specified.\n",
       " \"\"\",\n",
       " 13.654142007537686)"
      ]
     },
     "execution_count": 15,
     "metadata": {},
     "output_type": "execute_result"
    }
   ],
   "source": [
    "rmw = np.atleast_2d(df[0:200, 3]).T\n",
    "cma = np.atleast_2d(df[0:200, 4]).T\n",
    "x_quint = np.hstack((x_mat, rmw, cma))\n",
    "quint_model = sm.OLS(y, x_quint).fit()\n",
    "quint_model.summary(), quint_model.mse_total"
   ]
  },
  {
   "cell_type": "code",
   "execution_count": 16,
   "metadata": {},
   "outputs": [
    {
     "data": {
      "text/plain": [
       "(17.092830842075244,\n",
       " 0.6469377845814027,\n",
       " 0.8363851277173695,\n",
       " 0.6670916307990982)"
      ]
     },
     "execution_count": 16,
     "metadata": {},
     "output_type": "execute_result"
    }
   ],
   "source": [
    "white_quint = sm.stats.diagnostic.het_white(quint_model.resid, sm.add_constant(x_quint))\n",
    "white_quint"
   ]
  },
  {
   "cell_type": "code",
   "execution_count": 17,
   "metadata": {},
   "outputs": [
    {
     "data": {
      "text/plain": [
       "((5.674813710717808,\n",
       "  0.3391573494846305,\n",
       "  1.1330634807578477,\n",
       "  0.3442083286573389),\n",
       " 11.070497693516355)"
      ]
     },
     "execution_count": 17,
     "metadata": {},
     "output_type": "execute_result"
    }
   ],
   "source": [
    "#Question 2.6 check for heteroscedasticity in 5 variable model\n",
    "\n",
    "quint_bp = sm.stats.diagnostic.het_breuschpagan(quint_model.resid ** 2, x_quint)\n",
    "quint_bp[0] < stats.chi2.isf(0.05, 5) #on ne peut pas rejeter h0\n",
    "quint_bp, stats.chi2.isf(0.05, 5)"
   ]
  },
  {
   "cell_type": "code",
   "execution_count": null,
   "metadata": {},
   "outputs": [],
   "source": []
  },
  {
   "cell_type": "code",
   "execution_count": 18,
   "metadata": {},
   "outputs": [
    {
     "data": {
      "text/html": [
       "<div>\n",
       "<style scoped>\n",
       "    .dataframe tbody tr th:only-of-type {\n",
       "        vertical-align: middle;\n",
       "    }\n",
       "\n",
       "    .dataframe tbody tr th {\n",
       "        vertical-align: top;\n",
       "    }\n",
       "\n",
       "    .dataframe thead th {\n",
       "        text-align: right;\n",
       "    }\n",
       "</style>\n",
       "<table border=\"1\" class=\"dataframe\">\n",
       "  <thead>\n",
       "    <tr style=\"text-align: right;\">\n",
       "      <th></th>\n",
       "      <th>R</th>\n",
       "      <th>NoComp</th>\n",
       "      <th>Industrie</th>\n",
       "      <th>Actifs</th>\n",
       "      <th>Dette</th>\n",
       "      <th>Ventes</th>\n",
       "      <th>CF</th>\n",
       "      <th>CV</th>\n",
       "    </tr>\n",
       "  </thead>\n",
       "  <tbody>\n",
       "    <tr>\n",
       "      <th>0</th>\n",
       "      <td>0.05314</td>\n",
       "      <td>1</td>\n",
       "      <td>1</td>\n",
       "      <td>485.62</td>\n",
       "      <td>335.34</td>\n",
       "      <td>262.44</td>\n",
       "      <td>94.32</td>\n",
       "      <td>157.20</td>\n",
       "    </tr>\n",
       "    <tr>\n",
       "      <th>1</th>\n",
       "      <td>0.05449</td>\n",
       "      <td>2</td>\n",
       "      <td>1</td>\n",
       "      <td>227.24</td>\n",
       "      <td>154.36</td>\n",
       "      <td>381.36</td>\n",
       "      <td>266.70</td>\n",
       "      <td>209.55</td>\n",
       "    </tr>\n",
       "    <tr>\n",
       "      <th>2</th>\n",
       "      <td>0.05240</td>\n",
       "      <td>3</td>\n",
       "      <td>1</td>\n",
       "      <td>445.31</td>\n",
       "      <td>449.45</td>\n",
       "      <td>1090.25</td>\n",
       "      <td>261.60</td>\n",
       "      <td>283.40</td>\n",
       "    </tr>\n",
       "    <tr>\n",
       "      <th>3</th>\n",
       "      <td>0.05621</td>\n",
       "      <td>4</td>\n",
       "      <td>1</td>\n",
       "      <td>346.97</td>\n",
       "      <td>291.48</td>\n",
       "      <td>142.27</td>\n",
       "      <td>46.86</td>\n",
       "      <td>25.56</td>\n",
       "    </tr>\n",
       "    <tr>\n",
       "      <th>4</th>\n",
       "      <td>0.03885</td>\n",
       "      <td>5</td>\n",
       "      <td>1</td>\n",
       "      <td>308.67</td>\n",
       "      <td>231.75</td>\n",
       "      <td>621.09</td>\n",
       "      <td>37.26</td>\n",
       "      <td>298.08</td>\n",
       "    </tr>\n",
       "  </tbody>\n",
       "</table>\n",
       "</div>"
      ],
      "text/plain": [
       "         R  NoComp  Industrie  Actifs   Dette   Ventes      CF      CV\n",
       "0  0.05314       1          1  485.62  335.34   262.44   94.32  157.20\n",
       "1  0.05449       2          1  227.24  154.36   381.36  266.70  209.55\n",
       "2  0.05240       3          1  445.31  449.45  1090.25  261.60  283.40\n",
       "3  0.05621       4          1  346.97  291.48   142.27   46.86   25.56\n",
       "4  0.03885       5          1  308.67  231.75   621.09   37.26  298.08"
      ]
     },
     "execution_count": 18,
     "metadata": {},
     "output_type": "execute_result"
    }
   ],
   "source": [
    "dt_2.head(5)"
   ]
  },
  {
   "cell_type": "code",
   "execution_count": 19,
   "metadata": {},
   "outputs": [],
   "source": [
    "int_y = df_2[0:,0]\n",
    "d_a = np.atleast_2d(np.divide(df_2[0:,4], df_2[0:,3])).T\n",
    "d_v = np.atleast_2d(np.divide(df_2[0:,4], df_2[0:,5])).T\n",
    "cf_v = np.atleast_2d(np.divide(df_2[0:,6], df_2[0:,5])).T\n",
    "cf_a = np.atleast_2d(np.divide(df_2[0:,6], df_2[0:,3])).T\n",
    "int_x = sm.add_constant(np.hstack((d_a, d_v, cf_v, cf_a)))"
   ]
  },
  {
   "cell_type": "code",
   "execution_count": 20,
   "metadata": {},
   "outputs": [
    {
     "data": {
      "text/html": [
       "<table class=\"simpletable\">\n",
       "<caption>OLS Regression Results</caption>\n",
       "<tr>\n",
       "  <th>Dep. Variable:</th>            <td>y</td>        <th>  R-squared:         </th> <td>   0.827</td>\n",
       "</tr>\n",
       "<tr>\n",
       "  <th>Model:</th>                   <td>OLS</td>       <th>  Adj. R-squared:    </th> <td>   0.822</td>\n",
       "</tr>\n",
       "<tr>\n",
       "  <th>Method:</th>             <td>Least Squares</td>  <th>  F-statistic:       </th> <td>   182.1</td>\n",
       "</tr>\n",
       "<tr>\n",
       "  <th>Date:</th>             <td>Fri, 23 Apr 2021</td> <th>  Prob (F-statistic):</th> <td>2.92e-71</td>\n",
       "</tr>\n",
       "<tr>\n",
       "  <th>Time:</th>                 <td>09:08:24</td>     <th>  Log-Likelihood:    </th> <td> -369.48</td>\n",
       "</tr>\n",
       "<tr>\n",
       "  <th>No. Observations:</th>      <td>   200</td>      <th>  AIC:               </th> <td>   751.0</td>\n",
       "</tr>\n",
       "<tr>\n",
       "  <th>Df Residuals:</th>          <td>   194</td>      <th>  BIC:               </th> <td>   770.7</td>\n",
       "</tr>\n",
       "<tr>\n",
       "  <th>Df Model:</th>              <td>     5</td>      <th>                     </th>     <td> </td>   \n",
       "</tr>\n",
       "<tr>\n",
       "  <th>Covariance Type:</th>         <td>HC1</td>       <th>                     </th>     <td> </td>   \n",
       "</tr>\n",
       "</table>\n",
       "<table class=\"simpletable\">\n",
       "<tr>\n",
       "    <td></td>       <th>coef</th>     <th>std err</th>      <th>t</th>      <th>P>|t|</th>  <th>[0.025</th>    <th>0.975]</th>  \n",
       "</tr>\n",
       "<tr>\n",
       "  <th>const</th> <td>   -0.4042</td> <td>    0.117</td> <td>   -3.462</td> <td> 0.001</td> <td>   -0.634</td> <td>   -0.174</td>\n",
       "</tr>\n",
       "<tr>\n",
       "  <th>x1</th>    <td>    1.0114</td> <td>    0.038</td> <td>   26.355</td> <td> 0.000</td> <td>    0.936</td> <td>    1.087</td>\n",
       "</tr>\n",
       "<tr>\n",
       "  <th>x2</th>    <td>    0.1592</td> <td>    0.036</td> <td>    4.397</td> <td> 0.000</td> <td>    0.088</td> <td>    0.231</td>\n",
       "</tr>\n",
       "<tr>\n",
       "  <th>x3</th>    <td>    0.0805</td> <td>    0.060</td> <td>    1.344</td> <td> 0.181</td> <td>   -0.038</td> <td>    0.199</td>\n",
       "</tr>\n",
       "<tr>\n",
       "  <th>x4</th>    <td>    0.5318</td> <td>    0.050</td> <td>   10.733</td> <td> 0.000</td> <td>    0.434</td> <td>    0.629</td>\n",
       "</tr>\n",
       "<tr>\n",
       "  <th>x5</th>    <td>    0.1386</td> <td>    0.082</td> <td>    1.686</td> <td> 0.093</td> <td>   -0.024</td> <td>    0.301</td>\n",
       "</tr>\n",
       "</table>\n",
       "<table class=\"simpletable\">\n",
       "<tr>\n",
       "  <th>Omnibus:</th>       <td>12.148</td> <th>  Durbin-Watson:     </th> <td>   2.129</td>\n",
       "</tr>\n",
       "<tr>\n",
       "  <th>Prob(Omnibus):</th> <td> 0.002</td> <th>  Jarque-Bera (JB):  </th> <td>  29.895</td>\n",
       "</tr>\n",
       "<tr>\n",
       "  <th>Skew:</th>          <td> 0.075</td> <th>  Prob(JB):          </th> <td>3.22e-07</td>\n",
       "</tr>\n",
       "<tr>\n",
       "  <th>Kurtosis:</th>      <td> 4.888</td> <th>  Cond. No.          </th> <td>    5.85</td>\n",
       "</tr>\n",
       "</table><br/><br/>Notes:<br/>[1] Standard Errors are heteroscedasticity robust (HC1)"
      ],
      "text/plain": [
       "<class 'statsmodels.iolib.summary.Summary'>\n",
       "\"\"\"\n",
       "                            OLS Regression Results                            \n",
       "==============================================================================\n",
       "Dep. Variable:                      y   R-squared:                       0.827\n",
       "Model:                            OLS   Adj. R-squared:                  0.822\n",
       "Method:                 Least Squares   F-statistic:                     182.1\n",
       "Date:                Fri, 23 Apr 2021   Prob (F-statistic):           2.92e-71\n",
       "Time:                        09:08:24   Log-Likelihood:                -369.48\n",
       "No. Observations:                 200   AIC:                             751.0\n",
       "Df Residuals:                     194   BIC:                             770.7\n",
       "Df Model:                           5                                         \n",
       "Covariance Type:                  HC1                                         \n",
       "==============================================================================\n",
       "                 coef    std err          t      P>|t|      [0.025      0.975]\n",
       "------------------------------------------------------------------------------\n",
       "const         -0.4042      0.117     -3.462      0.001      -0.634      -0.174\n",
       "x1             1.0114      0.038     26.355      0.000       0.936       1.087\n",
       "x2             0.1592      0.036      4.397      0.000       0.088       0.231\n",
       "x3             0.0805      0.060      1.344      0.181      -0.038       0.199\n",
       "x4             0.5318      0.050     10.733      0.000       0.434       0.629\n",
       "x5             0.1386      0.082      1.686      0.093      -0.024       0.301\n",
       "==============================================================================\n",
       "Omnibus:                       12.148   Durbin-Watson:                   2.129\n",
       "Prob(Omnibus):                  0.002   Jarque-Bera (JB):               29.895\n",
       "Skew:                           0.075   Prob(JB):                     3.22e-07\n",
       "Kurtosis:                       4.888   Cond. No.                         5.85\n",
       "==============================================================================\n",
       "\n",
       "Notes:\n",
       "[1] Standard Errors are heteroscedasticity robust (HC1)\n",
       "\"\"\""
      ]
     },
     "execution_count": 20,
     "metadata": {},
     "output_type": "execute_result"
    }
   ],
   "source": [
    "new = quint_model.get_robustcov_results(cov_type='HC1')\n",
    "new.summary()"
   ]
  },
  {
   "cell_type": "code",
   "execution_count": 22,
   "metadata": {},
   "outputs": [
    {
     "data": {
      "text/html": [
       "<table class=\"simpletable\">\n",
       "<caption>OLS Regression Results</caption>\n",
       "<tr>\n",
       "  <th>Dep. Variable:</th>            <td>y</td>        <th>  R-squared:         </th> <td>   0.252</td>\n",
       "</tr>\n",
       "<tr>\n",
       "  <th>Model:</th>                   <td>OLS</td>       <th>  Adj. R-squared:    </th> <td>   0.226</td>\n",
       "</tr>\n",
       "<tr>\n",
       "  <th>Method:</th>             <td>Least Squares</td>  <th>  F-statistic:       </th> <td>   9.616</td>\n",
       "</tr>\n",
       "<tr>\n",
       "  <th>Date:</th>             <td>Fri, 23 Apr 2021</td> <th>  Prob (F-statistic):</th> <td>9.77e-07</td>\n",
       "</tr>\n",
       "<tr>\n",
       "  <th>Time:</th>                 <td>09:08:24</td>     <th>  Log-Likelihood:    </th> <td>  377.88</td>\n",
       "</tr>\n",
       "<tr>\n",
       "  <th>No. Observations:</th>      <td>   119</td>      <th>  AIC:               </th> <td>  -745.8</td>\n",
       "</tr>\n",
       "<tr>\n",
       "  <th>Df Residuals:</th>          <td>   114</td>      <th>  BIC:               </th> <td>  -731.9</td>\n",
       "</tr>\n",
       "<tr>\n",
       "  <th>Df Model:</th>              <td>     4</td>      <th>                     </th>     <td> </td>   \n",
       "</tr>\n",
       "<tr>\n",
       "  <th>Covariance Type:</th>      <td>nonrobust</td>    <th>                     </th>     <td> </td>   \n",
       "</tr>\n",
       "</table>\n",
       "<table class=\"simpletable\">\n",
       "<tr>\n",
       "    <td></td>       <th>coef</th>     <th>std err</th>      <th>t</th>      <th>P>|t|</th>  <th>[0.025</th>    <th>0.975]</th>  \n",
       "</tr>\n",
       "<tr>\n",
       "  <th>const</th> <td>    0.0320</td> <td>    0.003</td> <td>   10.785</td> <td> 0.000</td> <td>    0.026</td> <td>    0.038</td>\n",
       "</tr>\n",
       "<tr>\n",
       "  <th>x1</th>    <td>    0.0060</td> <td>    0.004</td> <td>    1.701</td> <td> 0.092</td> <td>   -0.001</td> <td>    0.013</td>\n",
       "</tr>\n",
       "<tr>\n",
       "  <th>x2</th>    <td>    0.0065</td> <td>    0.002</td> <td>    3.275</td> <td> 0.001</td> <td>    0.003</td> <td>    0.010</td>\n",
       "</tr>\n",
       "<tr>\n",
       "  <th>x3</th>    <td>    0.0143</td> <td>    0.008</td> <td>    1.899</td> <td> 0.060</td> <td>   -0.001</td> <td>    0.029</td>\n",
       "</tr>\n",
       "<tr>\n",
       "  <th>x4</th>    <td>    0.0034</td> <td>    0.002</td> <td>    1.418</td> <td> 0.159</td> <td>   -0.001</td> <td>    0.008</td>\n",
       "</tr>\n",
       "</table>\n",
       "<table class=\"simpletable\">\n",
       "<tr>\n",
       "  <th>Omnibus:</th>       <td>25.851</td> <th>  Durbin-Watson:     </th> <td>   1.994</td>\n",
       "</tr>\n",
       "<tr>\n",
       "  <th>Prob(Omnibus):</th> <td> 0.000</td> <th>  Jarque-Bera (JB):  </th> <td> 212.344</td>\n",
       "</tr>\n",
       "<tr>\n",
       "  <th>Skew:</th>          <td>-0.139</td> <th>  Prob(JB):          </th> <td>7.76e-47</td>\n",
       "</tr>\n",
       "<tr>\n",
       "  <th>Kurtosis:</th>      <td> 9.538</td> <th>  Cond. No.          </th> <td>    13.0</td>\n",
       "</tr>\n",
       "</table><br/><br/>Notes:<br/>[1] Standard Errors assume that the covariance matrix of the errors is correctly specified."
      ],
      "text/plain": [
       "<class 'statsmodels.iolib.summary.Summary'>\n",
       "\"\"\"\n",
       "                            OLS Regression Results                            \n",
       "==============================================================================\n",
       "Dep. Variable:                      y   R-squared:                       0.252\n",
       "Model:                            OLS   Adj. R-squared:                  0.226\n",
       "Method:                 Least Squares   F-statistic:                     9.616\n",
       "Date:                Fri, 23 Apr 2021   Prob (F-statistic):           9.77e-07\n",
       "Time:                        09:08:24   Log-Likelihood:                 377.88\n",
       "No. Observations:                 119   AIC:                            -745.8\n",
       "Df Residuals:                     114   BIC:                            -731.9\n",
       "Df Model:                           4                                         \n",
       "Covariance Type:            nonrobust                                         \n",
       "==============================================================================\n",
       "                 coef    std err          t      P>|t|      [0.025      0.975]\n",
       "------------------------------------------------------------------------------\n",
       "const          0.0320      0.003     10.785      0.000       0.026       0.038\n",
       "x1             0.0060      0.004      1.701      0.092      -0.001       0.013\n",
       "x2             0.0065      0.002      3.275      0.001       0.003       0.010\n",
       "x3             0.0143      0.008      1.899      0.060      -0.001       0.029\n",
       "x4             0.0034      0.002      1.418      0.159      -0.001       0.008\n",
       "==============================================================================\n",
       "Omnibus:                       25.851   Durbin-Watson:                   1.994\n",
       "Prob(Omnibus):                  0.000   Jarque-Bera (JB):              212.344\n",
       "Skew:                          -0.139   Prob(JB):                     7.76e-47\n",
       "Kurtosis:                       9.538   Cond. No.                         13.0\n",
       "==============================================================================\n",
       "\n",
       "Notes:\n",
       "[1] Standard Errors assume that the covariance matrix of the errors is correctly specified.\n",
       "\"\"\""
      ]
     },
     "execution_count": 22,
     "metadata": {},
     "output_type": "execute_result"
    }
   ],
   "source": [
    "#3.1 OLS\n",
    "\n",
    "debt_r = sm.OLS(int_y, int_x).fit()\n",
    "debt_r.summary()"
   ]
  },
  {
   "cell_type": "code",
   "execution_count": 100,
   "metadata": {},
   "outputs": [
    {
     "data": {
      "text/plain": [
       "(38.95585823495725,\n",
       " 4.3349746434327063e-10,\n",
       " 57.169063441631465,\n",
       " 1.02220692741404e-11)"
      ]
     },
     "execution_count": 100,
     "metadata": {},
     "output_type": "execute_result"
    }
   ],
   "source": [
    "#3.2 Test 1 : forme generalisee avec white\n",
    "\n",
    "white_debt = sm.stats.diagnostic.het_white(debt_r.resid, int_x)\n",
    "white_debt\n",
    "\n",
    "#Test 2 : test pour heteroscedasticite groupee (clusters)\n",
    "\n",
    "cluster_debt = sm.stats.diagnostic.het_arch(debt_r.resid, nlags=1)\n",
    "cluster_debt"
   ]
  },
  {
   "cell_type": "code",
   "execution_count": 61,
   "metadata": {},
   "outputs": [
    {
     "data": {
      "text/html": [
       "<table class=\"simpletable\">\n",
       "<caption>OLS Regression Results</caption>\n",
       "<tr>\n",
       "  <th>Dep. Variable:</th>            <td>y</td>        <th>  R-squared:         </th> <td>   0.252</td>\n",
       "</tr>\n",
       "<tr>\n",
       "  <th>Model:</th>                   <td>OLS</td>       <th>  Adj. R-squared:    </th> <td>   0.226</td>\n",
       "</tr>\n",
       "<tr>\n",
       "  <th>Method:</th>             <td>Least Squares</td>  <th>  F-statistic:       </th> <td>   12.30</td>\n",
       "</tr>\n",
       "<tr>\n",
       "  <th>Date:</th>             <td>Fri, 23 Apr 2021</td> <th>  Prob (F-statistic):</th> <td>2.38e-08</td>\n",
       "</tr>\n",
       "<tr>\n",
       "  <th>Time:</th>                 <td>09:25:51</td>     <th>  Log-Likelihood:    </th> <td>  377.88</td>\n",
       "</tr>\n",
       "<tr>\n",
       "  <th>No. Observations:</th>      <td>   119</td>      <th>  AIC:               </th> <td>  -745.8</td>\n",
       "</tr>\n",
       "<tr>\n",
       "  <th>Df Residuals:</th>          <td>   114</td>      <th>  BIC:               </th> <td>  -731.9</td>\n",
       "</tr>\n",
       "<tr>\n",
       "  <th>Df Model:</th>              <td>     4</td>      <th>                     </th>     <td> </td>   \n",
       "</tr>\n",
       "<tr>\n",
       "  <th>Covariance Type:</th>         <td>HC0</td>       <th>                     </th>     <td> </td>   \n",
       "</tr>\n",
       "</table>\n",
       "<table class=\"simpletable\">\n",
       "<tr>\n",
       "    <td></td>       <th>coef</th>     <th>std err</th>      <th>t</th>      <th>P>|t|</th>  <th>[0.025</th>    <th>0.975]</th>  \n",
       "</tr>\n",
       "<tr>\n",
       "  <th>const</th> <td>    0.0320</td> <td>    0.003</td> <td>   11.057</td> <td> 0.000</td> <td>    0.026</td> <td>    0.038</td>\n",
       "</tr>\n",
       "<tr>\n",
       "  <th>x1</th>    <td>    0.0060</td> <td>    0.003</td> <td>    2.080</td> <td> 0.040</td> <td>    0.000</td> <td>    0.012</td>\n",
       "</tr>\n",
       "<tr>\n",
       "  <th>x2</th>    <td>    0.0065</td> <td>    0.001</td> <td>    5.226</td> <td> 0.000</td> <td>    0.004</td> <td>    0.009</td>\n",
       "</tr>\n",
       "<tr>\n",
       "  <th>x3</th>    <td>    0.0143</td> <td>    0.006</td> <td>    2.204</td> <td> 0.030</td> <td>    0.001</td> <td>    0.027</td>\n",
       "</tr>\n",
       "<tr>\n",
       "  <th>x4</th>    <td>    0.0034</td> <td>    0.002</td> <td>    1.644</td> <td> 0.103</td> <td>   -0.001</td> <td>    0.008</td>\n",
       "</tr>\n",
       "</table>\n",
       "<table class=\"simpletable\">\n",
       "<tr>\n",
       "  <th>Omnibus:</th>       <td>25.851</td> <th>  Durbin-Watson:     </th> <td>   1.994</td>\n",
       "</tr>\n",
       "<tr>\n",
       "  <th>Prob(Omnibus):</th> <td> 0.000</td> <th>  Jarque-Bera (JB):  </th> <td> 212.344</td>\n",
       "</tr>\n",
       "<tr>\n",
       "  <th>Skew:</th>          <td>-0.139</td> <th>  Prob(JB):          </th> <td>7.76e-47</td>\n",
       "</tr>\n",
       "<tr>\n",
       "  <th>Kurtosis:</th>      <td> 9.538</td> <th>  Cond. No.          </th> <td>    13.0</td>\n",
       "</tr>\n",
       "</table><br/><br/>Notes:<br/>[1] Standard Errors are heteroscedasticity robust (HC0)"
      ],
      "text/plain": [
       "<class 'statsmodels.iolib.summary.Summary'>\n",
       "\"\"\"\n",
       "                            OLS Regression Results                            \n",
       "==============================================================================\n",
       "Dep. Variable:                      y   R-squared:                       0.252\n",
       "Model:                            OLS   Adj. R-squared:                  0.226\n",
       "Method:                 Least Squares   F-statistic:                     12.30\n",
       "Date:                Fri, 23 Apr 2021   Prob (F-statistic):           2.38e-08\n",
       "Time:                        09:25:51   Log-Likelihood:                 377.88\n",
       "No. Observations:                 119   AIC:                            -745.8\n",
       "Df Residuals:                     114   BIC:                            -731.9\n",
       "Df Model:                           4                                         \n",
       "Covariance Type:                  HC0                                         \n",
       "==============================================================================\n",
       "                 coef    std err          t      P>|t|      [0.025      0.975]\n",
       "------------------------------------------------------------------------------\n",
       "const          0.0320      0.003     11.057      0.000       0.026       0.038\n",
       "x1             0.0060      0.003      2.080      0.040       0.000       0.012\n",
       "x2             0.0065      0.001      5.226      0.000       0.004       0.009\n",
       "x3             0.0143      0.006      2.204      0.030       0.001       0.027\n",
       "x4             0.0034      0.002      1.644      0.103      -0.001       0.008\n",
       "==============================================================================\n",
       "Omnibus:                       25.851   Durbin-Watson:                   1.994\n",
       "Prob(Omnibus):                  0.000   Jarque-Bera (JB):              212.344\n",
       "Skew:                          -0.139   Prob(JB):                     7.76e-47\n",
       "Kurtosis:                       9.538   Cond. No.                         13.0\n",
       "==============================================================================\n",
       "\n",
       "Notes:\n",
       "[1] Standard Errors are heteroscedasticity robust (HC0)\n",
       "\"\"\""
      ]
     },
     "execution_count": 61,
     "metadata": {},
     "output_type": "execute_result"
    }
   ],
   "source": [
    "#3.3\n",
    "\n",
    "rob_debt = sm.OLS(int_y, int_x).fit()\n",
    "\n",
    "rob_debt.get_robustcov_results(cov_type='HC0').summary()"
   ]
  },
  {
   "cell_type": "code",
   "execution_count": 71,
   "metadata": {},
   "outputs": [
    {
     "data": {
      "text/html": [
       "<table class=\"simpletable\">\n",
       "<caption>OLS Regression Results</caption>\n",
       "<tr>\n",
       "  <th>Dep. Variable:</th>            <td>y</td>        <th>  R-squared:         </th> <td>   0.252</td>\n",
       "</tr>\n",
       "<tr>\n",
       "  <th>Model:</th>                   <td>OLS</td>       <th>  Adj. R-squared:    </th> <td>   0.226</td>\n",
       "</tr>\n",
       "<tr>\n",
       "  <th>Method:</th>             <td>Least Squares</td>  <th>  F-statistic:       </th> <td>   125.5</td>\n",
       "</tr>\n",
       "<tr>\n",
       "  <th>Date:</th>             <td>Fri, 23 Apr 2021</td> <th>  Prob (F-statistic):</th> <td>6.93e-08</td>\n",
       "</tr>\n",
       "<tr>\n",
       "  <th>Time:</th>                 <td>09:34:52</td>     <th>  Log-Likelihood:    </th> <td>  377.88</td>\n",
       "</tr>\n",
       "<tr>\n",
       "  <th>No. Observations:</th>      <td>   119</td>      <th>  AIC:               </th> <td>  -745.8</td>\n",
       "</tr>\n",
       "<tr>\n",
       "  <th>Df Residuals:</th>          <td>   114</td>      <th>  BIC:               </th> <td>  -731.9</td>\n",
       "</tr>\n",
       "<tr>\n",
       "  <th>Df Model:</th>              <td>     4</td>      <th>                     </th>     <td> </td>   \n",
       "</tr>\n",
       "<tr>\n",
       "  <th>Covariance Type:</th>       <td>cluster</td>     <th>                     </th>     <td> </td>   \n",
       "</tr>\n",
       "</table>\n",
       "<table class=\"simpletable\">\n",
       "<tr>\n",
       "    <td></td>       <th>coef</th>     <th>std err</th>      <th>t</th>      <th>P>|t|</th>  <th>[0.025</th>    <th>0.975]</th>  \n",
       "</tr>\n",
       "<tr>\n",
       "  <th>const</th> <td>    0.0320</td> <td>    0.004</td> <td>    8.318</td> <td> 0.000</td> <td>    0.023</td> <td>    0.041</td>\n",
       "</tr>\n",
       "<tr>\n",
       "  <th>x1</th>    <td>    0.0060</td> <td>    0.004</td> <td>    1.464</td> <td> 0.177</td> <td>   -0.003</td> <td>    0.015</td>\n",
       "</tr>\n",
       "<tr>\n",
       "  <th>x2</th>    <td>    0.0065</td> <td>    0.001</td> <td>    7.701</td> <td> 0.000</td> <td>    0.005</td> <td>    0.008</td>\n",
       "</tr>\n",
       "<tr>\n",
       "  <th>x3</th>    <td>    0.0143</td> <td>    0.008</td> <td>    1.792</td> <td> 0.107</td> <td>   -0.004</td> <td>    0.032</td>\n",
       "</tr>\n",
       "<tr>\n",
       "  <th>x4</th>    <td>    0.0034</td> <td>    0.001</td> <td>    3.981</td> <td> 0.003</td> <td>    0.001</td> <td>    0.005</td>\n",
       "</tr>\n",
       "</table>\n",
       "<table class=\"simpletable\">\n",
       "<tr>\n",
       "  <th>Omnibus:</th>       <td>25.851</td> <th>  Durbin-Watson:     </th> <td>   1.994</td>\n",
       "</tr>\n",
       "<tr>\n",
       "  <th>Prob(Omnibus):</th> <td> 0.000</td> <th>  Jarque-Bera (JB):  </th> <td> 212.344</td>\n",
       "</tr>\n",
       "<tr>\n",
       "  <th>Skew:</th>          <td>-0.139</td> <th>  Prob(JB):          </th> <td>7.76e-47</td>\n",
       "</tr>\n",
       "<tr>\n",
       "  <th>Kurtosis:</th>      <td> 9.538</td> <th>  Cond. No.          </th> <td>    13.0</td>\n",
       "</tr>\n",
       "</table><br/><br/>Notes:<br/>[1] Standard Errors are robust to cluster correlation (cluster)"
      ],
      "text/plain": [
       "<class 'statsmodels.iolib.summary.Summary'>\n",
       "\"\"\"\n",
       "                            OLS Regression Results                            \n",
       "==============================================================================\n",
       "Dep. Variable:                      y   R-squared:                       0.252\n",
       "Model:                            OLS   Adj. R-squared:                  0.226\n",
       "Method:                 Least Squares   F-statistic:                     125.5\n",
       "Date:                Fri, 23 Apr 2021   Prob (F-statistic):           6.93e-08\n",
       "Time:                        09:34:52   Log-Likelihood:                 377.88\n",
       "No. Observations:                 119   AIC:                            -745.8\n",
       "Df Residuals:                     114   BIC:                            -731.9\n",
       "Df Model:                           4                                         \n",
       "Covariance Type:              cluster                                         \n",
       "==============================================================================\n",
       "                 coef    std err          t      P>|t|      [0.025      0.975]\n",
       "------------------------------------------------------------------------------\n",
       "const          0.0320      0.004      8.318      0.000       0.023       0.041\n",
       "x1             0.0060      0.004      1.464      0.177      -0.003       0.015\n",
       "x2             0.0065      0.001      7.701      0.000       0.005       0.008\n",
       "x3             0.0143      0.008      1.792      0.107      -0.004       0.032\n",
       "x4             0.0034      0.001      3.981      0.003       0.001       0.005\n",
       "==============================================================================\n",
       "Omnibus:                       25.851   Durbin-Watson:                   1.994\n",
       "Prob(Omnibus):                  0.000   Jarque-Bera (JB):              212.344\n",
       "Skew:                          -0.139   Prob(JB):                     7.76e-47\n",
       "Kurtosis:                       9.538   Cond. No.                         13.0\n",
       "==============================================================================\n",
       "\n",
       "Notes:\n",
       "[1] Standard Errors are robust to cluster correlation (cluster)\n",
       "\"\"\""
      ]
     },
     "execution_count": 71,
     "metadata": {},
     "output_type": "execute_result"
    }
   ],
   "source": [
    "#robuste pour clusters\n",
    "\n",
    "new_cat = pd.Categorical(df_2[:, 2])\n",
    "rob_debt.get_robustcov_results(cov_type='cluster', groups=df_2[:, 2]).summary()"
   ]
  },
  {
   "cell_type": "code",
   "execution_count": 26,
   "metadata": {},
   "outputs": [],
   "source": [
    "dt_3 = df_3.to_numpy()\n",
    "df_3.head(5)\n",
    "year = pd.Categorical(df_3.iloc[:,1])\n",
    "df_3 = df_3.set_index(['Firme', 'Annee'])\n",
    "df_3['Annee'] = year\n",
    "cie = pd.Categorical(df_t.iloc[:, 0])\n",
    "df_t = df_t.set_index([\"Firme\", 'Annee'])\n",
    "df_t['Firme'] = cie"
   ]
  },
  {
   "cell_type": "code",
   "execution_count": 27,
   "metadata": {},
   "outputs": [
    {
     "data": {
      "text/html": [
       "<table class=\"simpletable\">\n",
       "<caption>OLS Regression Results</caption>\n",
       "<tr>\n",
       "  <th>Dep. Variable:</th>            <td>y</td>        <th>  R-squared:         </th> <td>   0.111</td>\n",
       "</tr>\n",
       "<tr>\n",
       "  <th>Model:</th>                   <td>OLS</td>       <th>  Adj. R-squared:    </th> <td>   0.086</td>\n",
       "</tr>\n",
       "<tr>\n",
       "  <th>Method:</th>             <td>Least Squares</td>  <th>  F-statistic:       </th> <td>   13.83</td>\n",
       "</tr>\n",
       "<tr>\n",
       "  <th>Date:</th>             <td>Fri, 23 Apr 2021</td> <th>  Prob (F-statistic):</th>  <td>0.00157</td>\n",
       "</tr>\n",
       "<tr>\n",
       "  <th>Time:</th>                 <td>09:08:24</td>     <th>  Log-Likelihood:    </th> <td> -167.08</td>\n",
       "</tr>\n",
       "<tr>\n",
       "  <th>No. Observations:</th>      <td>   108</td>      <th>  AIC:               </th> <td>   342.2</td>\n",
       "</tr>\n",
       "<tr>\n",
       "  <th>Df Residuals:</th>          <td>   104</td>      <th>  BIC:               </th> <td>   352.9</td>\n",
       "</tr>\n",
       "<tr>\n",
       "  <th>Df Model:</th>              <td>     3</td>      <th>                     </th>     <td> </td>   \n",
       "</tr>\n",
       "<tr>\n",
       "  <th>Covariance Type:</th>       <td>cluster</td>     <th>                     </th>     <td> </td>   \n",
       "</tr>\n",
       "</table>\n",
       "<table class=\"simpletable\">\n",
       "<tr>\n",
       "    <td></td>       <th>coef</th>     <th>std err</th>      <th>t</th>      <th>P>|t|</th>  <th>[0.025</th>    <th>0.975]</th>  \n",
       "</tr>\n",
       "<tr>\n",
       "  <th>const</th> <td>    1.9359</td> <td>    1.015</td> <td>    1.907</td> <td> 0.093</td> <td>   -0.406</td> <td>    4.277</td>\n",
       "</tr>\n",
       "<tr>\n",
       "  <th>x1</th>    <td>    1.0401</td> <td>    0.312</td> <td>    3.331</td> <td> 0.010</td> <td>    0.320</td> <td>    1.760</td>\n",
       "</tr>\n",
       "<tr>\n",
       "  <th>x2</th>    <td>    0.0817</td> <td>    0.109</td> <td>    0.749</td> <td> 0.475</td> <td>   -0.170</td> <td>    0.333</td>\n",
       "</tr>\n",
       "<tr>\n",
       "  <th>x3</th>    <td>    0.2146</td> <td>    0.114</td> <td>    1.875</td> <td> 0.098</td> <td>   -0.049</td> <td>    0.478</td>\n",
       "</tr>\n",
       "</table>\n",
       "<table class=\"simpletable\">\n",
       "<tr>\n",
       "  <th>Omnibus:</th>       <td> 0.312</td> <th>  Durbin-Watson:     </th> <td>   1.893</td>\n",
       "</tr>\n",
       "<tr>\n",
       "  <th>Prob(Omnibus):</th> <td> 0.856</td> <th>  Jarque-Bera (JB):  </th> <td>   0.222</td>\n",
       "</tr>\n",
       "<tr>\n",
       "  <th>Skew:</th>          <td>-0.110</td> <th>  Prob(JB):          </th> <td>   0.895</td>\n",
       "</tr>\n",
       "<tr>\n",
       "  <th>Kurtosis:</th>      <td> 2.976</td> <th>  Cond. No.          </th> <td>    50.8</td>\n",
       "</tr>\n",
       "</table><br/><br/>Notes:<br/>[1] Standard Errors are robust to cluster correlation (cluster)"
      ],
      "text/plain": [
       "<class 'statsmodels.iolib.summary.Summary'>\n",
       "\"\"\"\n",
       "                            OLS Regression Results                            \n",
       "==============================================================================\n",
       "Dep. Variable:                      y   R-squared:                       0.111\n",
       "Model:                            OLS   Adj. R-squared:                  0.086\n",
       "Method:                 Least Squares   F-statistic:                     13.83\n",
       "Date:                Fri, 23 Apr 2021   Prob (F-statistic):            0.00157\n",
       "Time:                        09:08:24   Log-Likelihood:                -167.08\n",
       "No. Observations:                 108   AIC:                             342.2\n",
       "Df Residuals:                     104   BIC:                             352.9\n",
       "Df Model:                           3                                         \n",
       "Covariance Type:              cluster                                         \n",
       "==============================================================================\n",
       "                 coef    std err          t      P>|t|      [0.025      0.975]\n",
       "------------------------------------------------------------------------------\n",
       "const          1.9359      1.015      1.907      0.093      -0.406       4.277\n",
       "x1             1.0401      0.312      3.331      0.010       0.320       1.760\n",
       "x2             0.0817      0.109      0.749      0.475      -0.170       0.333\n",
       "x3             0.2146      0.114      1.875      0.098      -0.049       0.478\n",
       "==============================================================================\n",
       "Omnibus:                        0.312   Durbin-Watson:                   1.893\n",
       "Prob(Omnibus):                  0.856   Jarque-Bera (JB):                0.222\n",
       "Skew:                          -0.110   Prob(JB):                        0.895\n",
       "Kurtosis:                       2.976   Cond. No.                         50.8\n",
       "==============================================================================\n",
       "\n",
       "Notes:\n",
       "[1] Standard Errors are robust to cluster correlation (cluster)\n",
       "\"\"\""
      ]
     },
     "execution_count": 27,
     "metadata": {},
     "output_type": "execute_result"
    }
   ],
   "source": [
    "#4 B)\n",
    "\n",
    "pan_x = sm.add_constant(dt_3[:, 3:6])\n",
    "pan_y = dt_3[:, 2]\n",
    "std_pool = sm.OLS(pan_y, pan_x).fit()\n",
    "white_pool = std_pool.get_robustcov_results(cov_type='HC0')\n",
    "cluster_pool = std_pool.get_robustcov_results(cov_type='cluster', groups=dt_3[:, 0])\n",
    "#cluster_pool.summary()\n",
    "cluster_pool.summary()"
   ]
  },
  {
   "cell_type": "code",
   "execution_count": 28,
   "metadata": {},
   "outputs": [
    {
     "data": {
      "text/html": [
       "<table class=\"simpletable\">\n",
       "<caption>OLS Regression Results</caption>\n",
       "<tr>\n",
       "  <th>Dep. Variable:</th>            <td>y</td>        <th>  R-squared:         </th> <td>   0.111</td>\n",
       "</tr>\n",
       "<tr>\n",
       "  <th>Model:</th>                   <td>OLS</td>       <th>  Adj. R-squared:    </th> <td>   0.086</td>\n",
       "</tr>\n",
       "<tr>\n",
       "  <th>Method:</th>             <td>Least Squares</td>  <th>  F-statistic:       </th> <td>   4.742</td>\n",
       "</tr>\n",
       "<tr>\n",
       "  <th>Date:</th>             <td>Fri, 23 Apr 2021</td> <th>  Prob (F-statistic):</th>  <td>0.00385</td>\n",
       "</tr>\n",
       "<tr>\n",
       "  <th>Time:</th>                 <td>09:08:24</td>     <th>  Log-Likelihood:    </th> <td> -167.08</td>\n",
       "</tr>\n",
       "<tr>\n",
       "  <th>No. Observations:</th>      <td>   108</td>      <th>  AIC:               </th> <td>   342.2</td>\n",
       "</tr>\n",
       "<tr>\n",
       "  <th>Df Residuals:</th>          <td>   104</td>      <th>  BIC:               </th> <td>   352.9</td>\n",
       "</tr>\n",
       "<tr>\n",
       "  <th>Df Model:</th>              <td>     3</td>      <th>                     </th>     <td> </td>   \n",
       "</tr>\n",
       "<tr>\n",
       "  <th>Covariance Type:</th>         <td>HC0</td>       <th>                     </th>     <td> </td>   \n",
       "</tr>\n",
       "</table>\n",
       "<table class=\"simpletable\">\n",
       "<tr>\n",
       "    <td></td>       <th>coef</th>     <th>std err</th>      <th>t</th>      <th>P>|t|</th>  <th>[0.025</th>    <th>0.975]</th>  \n",
       "</tr>\n",
       "<tr>\n",
       "  <th>const</th> <td>    1.9359</td> <td>    0.709</td> <td>    2.731</td> <td> 0.007</td> <td>    0.530</td> <td>    3.342</td>\n",
       "</tr>\n",
       "<tr>\n",
       "  <th>x1</th>    <td>    1.0401</td> <td>    0.400</td> <td>    2.601</td> <td> 0.011</td> <td>    0.247</td> <td>    1.833</td>\n",
       "</tr>\n",
       "<tr>\n",
       "  <th>x2</th>    <td>    0.0817</td> <td>    0.126</td> <td>    0.649</td> <td> 0.518</td> <td>   -0.168</td> <td>    0.331</td>\n",
       "</tr>\n",
       "<tr>\n",
       "  <th>x3</th>    <td>    0.2146</td> <td>    0.084</td> <td>    2.556</td> <td> 0.012</td> <td>    0.048</td> <td>    0.381</td>\n",
       "</tr>\n",
       "</table>\n",
       "<table class=\"simpletable\">\n",
       "<tr>\n",
       "  <th>Omnibus:</th>       <td> 0.312</td> <th>  Durbin-Watson:     </th> <td>   1.893</td>\n",
       "</tr>\n",
       "<tr>\n",
       "  <th>Prob(Omnibus):</th> <td> 0.856</td> <th>  Jarque-Bera (JB):  </th> <td>   0.222</td>\n",
       "</tr>\n",
       "<tr>\n",
       "  <th>Skew:</th>          <td>-0.110</td> <th>  Prob(JB):          </th> <td>   0.895</td>\n",
       "</tr>\n",
       "<tr>\n",
       "  <th>Kurtosis:</th>      <td> 2.976</td> <th>  Cond. No.          </th> <td>    50.8</td>\n",
       "</tr>\n",
       "</table><br/><br/>Notes:<br/>[1] Standard Errors are heteroscedasticity robust (HC0)"
      ],
      "text/plain": [
       "<class 'statsmodels.iolib.summary.Summary'>\n",
       "\"\"\"\n",
       "                            OLS Regression Results                            \n",
       "==============================================================================\n",
       "Dep. Variable:                      y   R-squared:                       0.111\n",
       "Model:                            OLS   Adj. R-squared:                  0.086\n",
       "Method:                 Least Squares   F-statistic:                     4.742\n",
       "Date:                Fri, 23 Apr 2021   Prob (F-statistic):            0.00385\n",
       "Time:                        09:08:24   Log-Likelihood:                -167.08\n",
       "No. Observations:                 108   AIC:                             342.2\n",
       "Df Residuals:                     104   BIC:                             352.9\n",
       "Df Model:                           3                                         \n",
       "Covariance Type:                  HC0                                         \n",
       "==============================================================================\n",
       "                 coef    std err          t      P>|t|      [0.025      0.975]\n",
       "------------------------------------------------------------------------------\n",
       "const          1.9359      0.709      2.731      0.007       0.530       3.342\n",
       "x1             1.0401      0.400      2.601      0.011       0.247       1.833\n",
       "x2             0.0817      0.126      0.649      0.518      -0.168       0.331\n",
       "x3             0.2146      0.084      2.556      0.012       0.048       0.381\n",
       "==============================================================================\n",
       "Omnibus:                        0.312   Durbin-Watson:                   1.893\n",
       "Prob(Omnibus):                  0.856   Jarque-Bera (JB):                0.222\n",
       "Skew:                          -0.110   Prob(JB):                        0.895\n",
       "Kurtosis:                       2.976   Cond. No.                         50.8\n",
       "==============================================================================\n",
       "\n",
       "Notes:\n",
       "[1] Standard Errors are heteroscedasticity robust (HC0)\n",
       "\"\"\""
      ]
     },
     "execution_count": 28,
     "metadata": {},
     "output_type": "execute_result"
    }
   ],
   "source": [
    "white_pool.summary()"
   ]
  },
  {
   "cell_type": "code",
   "execution_count": 29,
   "metadata": {},
   "outputs": [
    {
     "data": {
      "text/html": [
       "<table class=\"simpletable\">\n",
       "<caption>OLS Regression Results</caption>\n",
       "<tr>\n",
       "  <th>Dep. Variable:</th>            <td>y</td>        <th>  R-squared:         </th> <td>   0.111</td>\n",
       "</tr>\n",
       "<tr>\n",
       "  <th>Model:</th>                   <td>OLS</td>       <th>  Adj. R-squared:    </th> <td>   0.086</td>\n",
       "</tr>\n",
       "<tr>\n",
       "  <th>Method:</th>             <td>Least Squares</td>  <th>  F-statistic:       </th> <td>   4.335</td>\n",
       "</tr>\n",
       "<tr>\n",
       "  <th>Date:</th>             <td>Fri, 23 Apr 2021</td> <th>  Prob (F-statistic):</th>  <td>0.00639</td>\n",
       "</tr>\n",
       "<tr>\n",
       "  <th>Time:</th>                 <td>09:08:24</td>     <th>  Log-Likelihood:    </th> <td> -167.08</td>\n",
       "</tr>\n",
       "<tr>\n",
       "  <th>No. Observations:</th>      <td>   108</td>      <th>  AIC:               </th> <td>   342.2</td>\n",
       "</tr>\n",
       "<tr>\n",
       "  <th>Df Residuals:</th>          <td>   104</td>      <th>  BIC:               </th> <td>   352.9</td>\n",
       "</tr>\n",
       "<tr>\n",
       "  <th>Df Model:</th>              <td>     3</td>      <th>                     </th>     <td> </td>   \n",
       "</tr>\n",
       "<tr>\n",
       "  <th>Covariance Type:</th>      <td>nonrobust</td>    <th>                     </th>     <td> </td>   \n",
       "</tr>\n",
       "</table>\n",
       "<table class=\"simpletable\">\n",
       "<tr>\n",
       "    <td></td>       <th>coef</th>     <th>std err</th>      <th>t</th>      <th>P>|t|</th>  <th>[0.025</th>    <th>0.975]</th>  \n",
       "</tr>\n",
       "<tr>\n",
       "  <th>const</th> <td>    1.9359</td> <td>    0.728</td> <td>    2.659</td> <td> 0.009</td> <td>    0.492</td> <td>    3.380</td>\n",
       "</tr>\n",
       "<tr>\n",
       "  <th>x1</th>    <td>    1.0401</td> <td>    0.400</td> <td>    2.602</td> <td> 0.011</td> <td>    0.247</td> <td>    1.833</td>\n",
       "</tr>\n",
       "<tr>\n",
       "  <th>x2</th>    <td>    0.0817</td> <td>    0.138</td> <td>    0.592</td> <td> 0.555</td> <td>   -0.192</td> <td>    0.355</td>\n",
       "</tr>\n",
       "<tr>\n",
       "  <th>x3</th>    <td>    0.2146</td> <td>    0.100</td> <td>    2.149</td> <td> 0.034</td> <td>    0.017</td> <td>    0.413</td>\n",
       "</tr>\n",
       "</table>\n",
       "<table class=\"simpletable\">\n",
       "<tr>\n",
       "  <th>Omnibus:</th>       <td> 0.312</td> <th>  Durbin-Watson:     </th> <td>   1.893</td>\n",
       "</tr>\n",
       "<tr>\n",
       "  <th>Prob(Omnibus):</th> <td> 0.856</td> <th>  Jarque-Bera (JB):  </th> <td>   0.222</td>\n",
       "</tr>\n",
       "<tr>\n",
       "  <th>Skew:</th>          <td>-0.110</td> <th>  Prob(JB):          </th> <td>   0.895</td>\n",
       "</tr>\n",
       "<tr>\n",
       "  <th>Kurtosis:</th>      <td> 2.976</td> <th>  Cond. No.          </th> <td>    50.8</td>\n",
       "</tr>\n",
       "</table><br/><br/>Notes:<br/>[1] Standard Errors assume that the covariance matrix of the errors is correctly specified."
      ],
      "text/plain": [
       "<class 'statsmodels.iolib.summary.Summary'>\n",
       "\"\"\"\n",
       "                            OLS Regression Results                            \n",
       "==============================================================================\n",
       "Dep. Variable:                      y   R-squared:                       0.111\n",
       "Model:                            OLS   Adj. R-squared:                  0.086\n",
       "Method:                 Least Squares   F-statistic:                     4.335\n",
       "Date:                Fri, 23 Apr 2021   Prob (F-statistic):            0.00639\n",
       "Time:                        09:08:24   Log-Likelihood:                -167.08\n",
       "No. Observations:                 108   AIC:                             342.2\n",
       "Df Residuals:                     104   BIC:                             352.9\n",
       "Df Model:                           3                                         \n",
       "Covariance Type:            nonrobust                                         \n",
       "==============================================================================\n",
       "                 coef    std err          t      P>|t|      [0.025      0.975]\n",
       "------------------------------------------------------------------------------\n",
       "const          1.9359      0.728      2.659      0.009       0.492       3.380\n",
       "x1             1.0401      0.400      2.602      0.011       0.247       1.833\n",
       "x2             0.0817      0.138      0.592      0.555      -0.192       0.355\n",
       "x3             0.2146      0.100      2.149      0.034       0.017       0.413\n",
       "==============================================================================\n",
       "Omnibus:                        0.312   Durbin-Watson:                   1.893\n",
       "Prob(Omnibus):                  0.856   Jarque-Bera (JB):                0.222\n",
       "Skew:                          -0.110   Prob(JB):                        0.895\n",
       "Kurtosis:                       2.976   Cond. No.                         50.8\n",
       "==============================================================================\n",
       "\n",
       "Notes:\n",
       "[1] Standard Errors assume that the covariance matrix of the errors is correctly specified.\n",
       "\"\"\""
      ]
     },
     "execution_count": 29,
     "metadata": {},
     "output_type": "execute_result"
    }
   ],
   "source": [
    "std_pool.summary()"
   ]
  },
  {
   "cell_type": "code",
   "execution_count": 32,
   "metadata": {},
   "outputs": [],
   "source": [
    "#D)\n",
    "\n",
    "pd_y = df_3.Q\n",
    "exog_n = ['Gouv', 'R&D', 'Taille']\n",
    "pd_x = sm.add_constant(df_3[exog_n])\n",
    "pan = PanelOLS(pd_y, pd_x, entity_effects=True).fit()"
   ]
  },
  {
   "cell_type": "code",
   "execution_count": 33,
   "metadata": {},
   "outputs": [
    {
     "name": "stdout",
     "output_type": "stream",
     "text": [
      "                          PanelOLS Estimation Summary                           \n",
      "================================================================================\n",
      "Dep. Variable:                      Q   R-squared:                        0.1117\n",
      "Estimator:                   PanelOLS   R-squared (Between):              0.1063\n",
      "No. Observations:                 108   R-squared (Within):               0.1117\n",
      "Date:                Fri, Apr 23 2021   R-squared (Overall):              0.1105\n",
      "Time:                        09:08:24   Log-likelihood                   -152.95\n",
      "Cov. Estimator:            Unadjusted                                           \n",
      "                                        F-statistic:                      4.0257\n",
      "Entities:                           9   P-value                           0.0096\n",
      "Avg Obs:                       12.000   Distribution:                    F(3,96)\n",
      "Min Obs:                       12.000                                           \n",
      "Max Obs:                       12.000   F-statistic (robust):             4.0257\n",
      "                                        P-value                           0.0096\n",
      "Time periods:                      12   Distribution:                    F(3,96)\n",
      "Avg Obs:                       9.0000                                           \n",
      "Min Obs:                       9.0000                                           \n",
      "Max Obs:                       9.0000                                           \n",
      "                                                                                \n",
      "                             Parameter Estimates                              \n",
      "==============================================================================\n",
      "            Parameter  Std. Err.     T-stat    P-value    Lower CI    Upper CI\n",
      "------------------------------------------------------------------------------\n",
      "const          2.1288     0.7225     2.9463     0.0040      0.6946      3.5630\n",
      "Gouv           1.0366     0.3874     2.6760     0.0088      0.2677      1.8056\n",
      "R&D            0.0745     0.1307     0.5703     0.5698     -0.1848      0.3339\n",
      "Taille         0.1899     0.1000     1.8991     0.0606     -0.0086      0.3884\n",
      "==============================================================================\n",
      "\n",
      "F-test for Poolability: 3.5892\n",
      "P-value: 0.0011\n",
      "Distribution: F(8,96)\n",
      "\n",
      "Included effects: Entity\n"
     ]
    }
   ],
   "source": [
    "print(pan)"
   ]
  },
  {
   "cell_type": "code",
   "execution_count": 34,
   "metadata": {},
   "outputs": [
    {
     "name": "stdout",
     "output_type": "stream",
     "text": [
      "                        RandomEffects Estimation Summary                        \n",
      "================================================================================\n",
      "Dep. Variable:                      Q   R-squared:                        0.1115\n",
      "Estimator:              RandomEffects   R-squared (Between):              0.1075\n",
      "No. Observations:                 108   R-squared (Within):               0.1117\n",
      "Date:                Fri, Apr 23 2021   R-squared (Overall):              0.1107\n",
      "Time:                        09:08:24   Log-likelihood                   -155.76\n",
      "Cov. Estimator:            Unadjusted                                           \n",
      "                                        F-statistic:                      4.3504\n",
      "Entities:                           9   P-value                           0.0063\n",
      "Avg Obs:                       12.000   Distribution:                   F(3,104)\n",
      "Min Obs:                       12.000                                           \n",
      "Max Obs:                       12.000   F-statistic (robust):             4.3504\n",
      "                                        P-value                           0.0063\n",
      "Time periods:                      12   Distribution:                   F(3,104)\n",
      "Avg Obs:                       9.0000                                           \n",
      "Min Obs:                       9.0000                                           \n",
      "Max Obs:                       9.0000                                           \n",
      "                                                                                \n",
      "                             Parameter Estimates                              \n",
      "==============================================================================\n",
      "            Parameter  Std. Err.     T-stat    P-value    Lower CI    Upper CI\n",
      "------------------------------------------------------------------------------\n",
      "const          2.0893     0.7336     2.8482     0.0053      0.6346      3.5440\n",
      "Gouv           1.0374     0.3776     2.7474     0.0071      0.2886      1.7862\n",
      "R&D            0.0758     0.1279     0.5922     0.5550     -0.1779      0.3294\n",
      "Taille         0.1950     0.0969     2.0136     0.0466      0.0030      0.3871\n",
      "==============================================================================\n"
     ]
    }
   ],
   "source": [
    "ran_pan = RandomEffects(pd_y, pd_x).fit()\n",
    "print(ran_pan)"
   ]
  },
  {
   "cell_type": "code",
   "execution_count": 35,
   "metadata": {},
   "outputs": [
    {
     "data": {
      "text/html": [
       "<table class=\"simpletable\">\n",
       "<caption>PanelOLS Estimation Summary</caption>\n",
       "<tr>\n",
       "  <th>Dep. Variable:</th>            <td>Q</td>        <th>  R-squared:         </th>    <td>0.3158</td> \n",
       "</tr>\n",
       "<tr>\n",
       "  <th>Estimator:</th>            <td>PanelOLS</td>     <th>  R-squared (Between):</th>   <td>1.0000</td> \n",
       "</tr>\n",
       "<tr>\n",
       "  <th>No. Observations:</th>        <td>108</td>       <th>  R-squared (Within):</th>    <td>0.1117</td> \n",
       "</tr>\n",
       "<tr>\n",
       "  <th>Date:</th>             <td>Fri, Apr 23 2021</td> <th>  R-squared (Overall):</th>   <td>0.3158</td> \n",
       "</tr>\n",
       "<tr>\n",
       "  <th>Time:</th>                 <td>09:08:24</td>     <th>  Log-likelihood     </th>    <td>-152.95</td>\n",
       "</tr>\n",
       "<tr>\n",
       "  <th>Cov. Estimator:</th>      <td>Unadjusted</td>    <th>                     </th>       <td></td>    \n",
       "</tr>\n",
       "<tr>\n",
       "  <th></th>                          <td></td>         <th>  F-statistic:       </th>    <td>4.0280</td> \n",
       "</tr>\n",
       "<tr>\n",
       "  <th>Entities:</th>                 <td>9</td>        <th>  P-value            </th>    <td>0.0001</td> \n",
       "</tr>\n",
       "<tr>\n",
       "  <th>Avg Obs:</th>               <td>12.000</td>      <th>  Distribution:      </th>   <td>F(11,96)</td>\n",
       "</tr>\n",
       "<tr>\n",
       "  <th>Min Obs:</th>               <td>12.000</td>      <th>                     </th>       <td></td>    \n",
       "</tr>\n",
       "<tr>\n",
       "  <th>Max Obs:</th>               <td>12.000</td>      <th>  F-statistic (robust):</th>  <td>4.0280</td> \n",
       "</tr>\n",
       "<tr>\n",
       "  <th></th>                          <td></td>         <th>  P-value            </th>    <td>0.0001</td> \n",
       "</tr>\n",
       "<tr>\n",
       "  <th>Time periods:</th>            <td>12</td>        <th>  Distribution:      </th>   <td>F(11,96)</td>\n",
       "</tr>\n",
       "<tr>\n",
       "  <th>Avg Obs:</th>               <td>9.0000</td>      <th>                     </th>       <td></td>    \n",
       "</tr>\n",
       "<tr>\n",
       "  <th>Min Obs:</th>               <td>9.0000</td>      <th>                     </th>       <td></td>    \n",
       "</tr>\n",
       "<tr>\n",
       "  <th>Max Obs:</th>               <td>9.0000</td>      <th>                     </th>       <td></td>    \n",
       "</tr>\n",
       "<tr>\n",
       "  <th></th>                          <td></td>         <th>                     </th>       <td></td>    \n",
       "</tr>\n",
       "</table>\n",
       "<table class=\"simpletable\">\n",
       "<caption>Parameter Estimates</caption>\n",
       "<tr>\n",
       "     <td></td>     <th>Parameter</th> <th>Std. Err.</th> <th>T-stat</th>  <th>P-value</th> <th>Lower CI</th> <th>Upper CI</th>\n",
       "</tr>\n",
       "<tr>\n",
       "  <th>const</th>    <td>2.0778</td>    <td>0.8064</td>   <td>2.5767</td>  <td>0.0115</td>   <td>0.4771</td>   <td>3.6784</td> \n",
       "</tr>\n",
       "<tr>\n",
       "  <th>Gouv</th>     <td>1.0366</td>    <td>0.3874</td>   <td>2.6760</td>  <td>0.0088</td>   <td>0.2677</td>   <td>1.8056</td> \n",
       "</tr>\n",
       "<tr>\n",
       "  <th>R&D</th>      <td>0.0745</td>    <td>0.1307</td>   <td>0.5703</td>  <td>0.5698</td>   <td>-0.1848</td>  <td>0.3339</td> \n",
       "</tr>\n",
       "<tr>\n",
       "  <th>Taille</th>   <td>0.1899</td>    <td>0.1000</td>   <td>1.8991</td>  <td>0.0606</td>   <td>-0.0086</td>  <td>0.3884</td> \n",
       "</tr>\n",
       "<tr>\n",
       "  <th>Firme.2</th>  <td>0.6724</td>    <td>0.4478</td>   <td>1.5017</td>  <td>0.1365</td>   <td>-0.2164</td>  <td>1.5612</td> \n",
       "</tr>\n",
       "<tr>\n",
       "  <th>Firme.3</th>  <td>0.2609</td>    <td>0.4462</td>   <td>0.5847</td>  <td>0.5601</td>   <td>-0.6249</td>  <td>1.1467</td> \n",
       "</tr>\n",
       "<tr>\n",
       "  <th>Firme.4</th>  <td>0.3194</td>    <td>0.4553</td>   <td>0.7016</td>  <td>0.4847</td>   <td>-0.5844</td>  <td>1.2233</td> \n",
       "</tr>\n",
       "<tr>\n",
       "  <th>Firme.5</th>  <td>0.0330</td>    <td>0.4515</td>   <td>0.0731</td>  <td>0.9419</td>   <td>-0.8632</td>  <td>0.9292</td> \n",
       "</tr>\n",
       "<tr>\n",
       "  <th>Firme.6</th>  <td>-1.0861</td>   <td>0.4506</td>   <td>-2.4104</td> <td>0.0178</td>   <td>-1.9806</td>  <td>-0.1917</td>\n",
       "</tr>\n",
       "<tr>\n",
       "  <th>Firme.7</th>  <td>0.5983</td>    <td>0.4561</td>   <td>1.3118</td>  <td>0.1927</td>   <td>-0.3070</td>  <td>1.5037</td> \n",
       "</tr>\n",
       "<tr>\n",
       "  <th>Firme.8</th>  <td>0.3261</td>    <td>0.4485</td>   <td>0.7271</td>  <td>0.4690</td>   <td>-0.5641</td>  <td>1.2163</td> \n",
       "</tr>\n",
       "<tr>\n",
       "  <th>Firme.9</th>  <td>-0.6648</td>   <td>0.4562</td>   <td>-1.4572</td> <td>0.1483</td>   <td>-1.5703</td>  <td>0.2408</td> \n",
       "</tr>\n",
       "</table><br/><br/>"
      ],
      "text/plain": [
       "<class 'linearmodels.compat.statsmodels.Summary'>\n",
       "\"\"\"\n",
       "                          PanelOLS Estimation Summary                           \n",
       "================================================================================\n",
       "Dep. Variable:                      Q   R-squared:                        0.3158\n",
       "Estimator:                   PanelOLS   R-squared (Between):              1.0000\n",
       "No. Observations:                 108   R-squared (Within):               0.1117\n",
       "Date:                Fri, Apr 23 2021   R-squared (Overall):              0.3158\n",
       "Time:                        09:08:24   Log-likelihood                   -152.95\n",
       "Cov. Estimator:            Unadjusted                                           \n",
       "                                        F-statistic:                      4.0280\n",
       "Entities:                           9   P-value                           0.0001\n",
       "Avg Obs:                       12.000   Distribution:                   F(11,96)\n",
       "Min Obs:                       12.000                                           \n",
       "Max Obs:                       12.000   F-statistic (robust):             4.0280\n",
       "                                        P-value                           0.0001\n",
       "Time periods:                      12   Distribution:                   F(11,96)\n",
       "Avg Obs:                       9.0000                                           \n",
       "Min Obs:                       9.0000                                           \n",
       "Max Obs:                       9.0000                                           \n",
       "                                                                                \n",
       "                             Parameter Estimates                              \n",
       "==============================================================================\n",
       "            Parameter  Std. Err.     T-stat    P-value    Lower CI    Upper CI\n",
       "------------------------------------------------------------------------------\n",
       "const          2.0778     0.8064     2.5767     0.0115      0.4771      3.6784\n",
       "Gouv           1.0366     0.3874     2.6760     0.0088      0.2677      1.8056\n",
       "R&D            0.0745     0.1307     0.5703     0.5698     -0.1848      0.3339\n",
       "Taille         0.1899     0.1000     1.8991     0.0606     -0.0086      0.3884\n",
       "Firme.2        0.6724     0.4478     1.5017     0.1365     -0.2164      1.5612\n",
       "Firme.3        0.2609     0.4462     0.5847     0.5601     -0.6249      1.1467\n",
       "Firme.4        0.3194     0.4553     0.7016     0.4847     -0.5844      1.2233\n",
       "Firme.5        0.0330     0.4515     0.0731     0.9419     -0.8632      0.9292\n",
       "Firme.6       -1.0861     0.4506    -2.4104     0.0178     -1.9806     -0.1917\n",
       "Firme.7        0.5983     0.4561     1.3118     0.1927     -0.3070      1.5037\n",
       "Firme.8        0.3261     0.4485     0.7271     0.4690     -0.5641      1.2163\n",
       "Firme.9       -0.6648     0.4562    -1.4572     0.1483     -1.5703      0.2408\n",
       "==============================================================================\n",
       "\n",
       "\n",
       "\"\"\""
      ]
     },
     "execution_count": 35,
     "metadata": {},
     "output_type": "execute_result"
    }
   ],
   "source": [
    "ex_t = ['Gouv', 'R&D', 'Taille', 'Firme']\n",
    "dummy = PanelOLS(pd_y, sm.add_constant(df_t[ex_t])).fit(use_lsdv=True)\n",
    "dummy.summary"
   ]
  },
  {
   "cell_type": "code",
   "execution_count": 36,
   "metadata": {},
   "outputs": [
    {
     "data": {
      "text/html": [
       "<table class=\"simpletable\">\n",
       "<caption>PanelOLS Estimation Summary</caption>\n",
       "<tr>\n",
       "  <th>Dep. Variable:</th>            <td>Q</td>        <th>  R-squared:         </th>   <td>0.1071</td> \n",
       "</tr>\n",
       "<tr>\n",
       "  <th>Estimator:</th>            <td>PanelOLS</td>     <th>  R-squared (Between):</th>  <td>0.0896</td> \n",
       "</tr>\n",
       "<tr>\n",
       "  <th>No. Observations:</th>        <td>108</td>       <th>  R-squared (Within):</th>   <td>0.1063</td> \n",
       "</tr>\n",
       "<tr>\n",
       "  <th>Date:</th>             <td>Fri, Apr 23 2021</td> <th>  R-squared (Overall):</th>  <td>0.1025</td> \n",
       "</tr>\n",
       "<tr>\n",
       "  <th>Time:</th>                 <td>09:08:24</td>     <th>  Log-likelihood     </th>   <td>-149.61</td>\n",
       "</tr>\n",
       "<tr>\n",
       "  <th>Cov. Estimator:</th>      <td>Unadjusted</td>    <th>                     </th>      <td></td>    \n",
       "</tr>\n",
       "<tr>\n",
       "  <th></th>                          <td></td>         <th>  F-statistic:       </th>   <td>3.3968</td> \n",
       "</tr>\n",
       "<tr>\n",
       "  <th>Entities:</th>                 <td>9</td>        <th>  P-value            </th>   <td>0.0215</td> \n",
       "</tr>\n",
       "<tr>\n",
       "  <th>Avg Obs:</th>               <td>12.000</td>      <th>  Distribution:      </th>   <td>F(3,85)</td>\n",
       "</tr>\n",
       "<tr>\n",
       "  <th>Min Obs:</th>               <td>12.000</td>      <th>                     </th>      <td></td>    \n",
       "</tr>\n",
       "<tr>\n",
       "  <th>Max Obs:</th>               <td>12.000</td>      <th>  F-statistic (robust):</th> <td>3.3968</td> \n",
       "</tr>\n",
       "<tr>\n",
       "  <th></th>                          <td></td>         <th>  P-value            </th>   <td>0.0215</td> \n",
       "</tr>\n",
       "<tr>\n",
       "  <th>Time periods:</th>            <td>12</td>        <th>  Distribution:      </th>   <td>F(3,85)</td>\n",
       "</tr>\n",
       "<tr>\n",
       "  <th>Avg Obs:</th>               <td>9.0000</td>      <th>                     </th>      <td></td>    \n",
       "</tr>\n",
       "<tr>\n",
       "  <th>Min Obs:</th>               <td>9.0000</td>      <th>                     </th>      <td></td>    \n",
       "</tr>\n",
       "<tr>\n",
       "  <th>Max Obs:</th>               <td>9.0000</td>      <th>                     </th>      <td></td>    \n",
       "</tr>\n",
       "<tr>\n",
       "  <th></th>                          <td></td>         <th>                     </th>      <td></td>    \n",
       "</tr>\n",
       "</table>\n",
       "<table class=\"simpletable\">\n",
       "<caption>Parameter Estimates</caption>\n",
       "<tr>\n",
       "     <td></td>    <th>Parameter</th> <th>Std. Err.</th> <th>T-stat</th> <th>P-value</th> <th>Lower CI</th> <th>Upper CI</th>\n",
       "</tr>\n",
       "<tr>\n",
       "  <th>const</th>   <td>2.5452</td>    <td>0.8083</td>   <td>3.1490</td> <td>0.0023</td>   <td>0.9381</td>   <td>4.1522</td> \n",
       "</tr>\n",
       "<tr>\n",
       "  <th>Gouv</th>    <td>1.1631</td>    <td>0.4145</td>   <td>2.8062</td> <td>0.0062</td>   <td>0.3390</td>   <td>1.9871</td> \n",
       "</tr>\n",
       "<tr>\n",
       "  <th>R&D</th>     <td>0.0417</td>    <td>0.1408</td>   <td>0.2962</td> <td>0.7678</td>   <td>-0.2382</td>  <td>0.3216</td> \n",
       "</tr>\n",
       "<tr>\n",
       "  <th>Taille</th>  <td>0.1339</td>    <td>0.1130</td>   <td>1.1849</td> <td>0.2393</td>   <td>-0.0907</td>  <td>0.3584</td> \n",
       "</tr>\n",
       "</table><br/><br/>F-test for Poolability: 1.7088<br/>P-value: 0.0503<br/>Distribution: F(19,85)<br/><br/>Included effects: Entity, Time"
      ],
      "text/plain": [
       "<class 'linearmodels.compat.statsmodels.Summary'>\n",
       "\"\"\"\n",
       "                          PanelOLS Estimation Summary                           \n",
       "================================================================================\n",
       "Dep. Variable:                      Q   R-squared:                        0.1071\n",
       "Estimator:                   PanelOLS   R-squared (Between):              0.0896\n",
       "No. Observations:                 108   R-squared (Within):               0.1063\n",
       "Date:                Fri, Apr 23 2021   R-squared (Overall):              0.1025\n",
       "Time:                        09:08:24   Log-likelihood                   -149.61\n",
       "Cov. Estimator:            Unadjusted                                           \n",
       "                                        F-statistic:                      3.3968\n",
       "Entities:                           9   P-value                           0.0215\n",
       "Avg Obs:                       12.000   Distribution:                    F(3,85)\n",
       "Min Obs:                       12.000                                           \n",
       "Max Obs:                       12.000   F-statistic (robust):             3.3968\n",
       "                                        P-value                           0.0215\n",
       "Time periods:                      12   Distribution:                    F(3,85)\n",
       "Avg Obs:                       9.0000                                           \n",
       "Min Obs:                       9.0000                                           \n",
       "Max Obs:                       9.0000                                           \n",
       "                                                                                \n",
       "                             Parameter Estimates                              \n",
       "==============================================================================\n",
       "            Parameter  Std. Err.     T-stat    P-value    Lower CI    Upper CI\n",
       "------------------------------------------------------------------------------\n",
       "const          2.5452     0.8083     3.1490     0.0023      0.9381      4.1522\n",
       "Gouv           1.1631     0.4145     2.8062     0.0062      0.3390      1.9871\n",
       "R&D            0.0417     0.1408     0.2962     0.7678     -0.2382      0.3216\n",
       "Taille         0.1339     0.1130     1.1849     0.2393     -0.0907      0.3584\n",
       "==============================================================================\n",
       "\n",
       "F-test for Poolability: 1.7088\n",
       "P-value: 0.0503\n",
       "Distribution: F(19,85)\n",
       "\n",
       "Included effects: Entity, Time\n",
       "\"\"\""
      ]
     },
     "execution_count": 36,
     "metadata": {},
     "output_type": "execute_result"
    }
   ],
   "source": [
    "ex_n = ['Gouv', 'R&D', 'Taille']\n",
    "no_dum = PanelOLS(pd_y, sm.add_constant(df_t[ex_n]), entity_effects=True, time_effects=True).fit()\n",
    "no_dum.summary"
   ]
  },
  {
   "cell_type": "code",
   "execution_count": 38,
   "metadata": {},
   "outputs": [],
   "source": [
    "#5\n",
    "\n",
    "five_data = pd.read_csv(\"q5donnes.csv\")"
   ]
  },
  {
   "cell_type": "code",
   "execution_count": 39,
   "metadata": {},
   "outputs": [
    {
     "data": {
      "text/plain": [
       "[<matplotlib.lines.Line2D at 0x1833263d8d0>]"
      ]
     },
     "execution_count": 39,
     "metadata": {},
     "output_type": "execute_result"
    },
    {
     "data": {
      "image/png": "[encoded data removed]",
      "text/plain": [
       "<Figure size 432x288 with 1 Axes>"
      ]
     },
     "metadata": {
      "needs_background": "light"
     },
     "output_type": "display_data"
    }
   ],
   "source": [
    "plt.plot(list(range(len(five_data[1:]))), five_data[1:])"
   ]
  },
  {
   "cell_type": "code",
   "execution_count": 89,
   "metadata": {},
   "outputs": [
    {
     "data": {
      "text/plain": [
       "(-1.8072631155074343,\n",
       " 0.37686176725770265,\n",
       " 9,\n",
       " 441,\n",
       " {'1%': -3.4452655826028318,\n",
       "  '5%': -2.868116205869215,\n",
       "  '10%': -2.570272878944473},\n",
       " 1852.486662962543)"
      ]
     },
     "execution_count": 89,
     "metadata": {},
     "output_type": "execute_result"
    }
   ],
   "source": [
    "orig_dicky = sm.tsa.stattools.adfuller(data_ols, maxlag=20)\n",
    "orig_dicky"
   ]
  },
  {
   "cell_type": "code",
   "execution_count": 40,
   "metadata": {},
   "outputs": [
    {
     "data": {
      "text/plain": [
       "(-4.825793456546595,\n",
       " 4.8532411408190246e-05,\n",
       " 20,\n",
       " 429,\n",
       " {'1%': -3.445685337552546,\n",
       "  '5%': -2.868300808913956,\n",
       "  '10%': -2.570371276889389})"
      ]
     },
     "execution_count": 40,
     "metadata": {},
     "output_type": "execute_result"
    }
   ],
   "source": [
    "data_ols = five_data[int(len(five_data) * 0.1):].to_numpy()\n",
    "dif_d = -np.diff(data_ols, axis=0)\n",
    "dicky = sm.tsa.stattools.adfuller(dif_d, maxlag=20, autolag=None)\n",
    "#processus stationnaire\n",
    "dicky"
   ]
  },
  {
   "cell_type": "code",
   "execution_count": 41,
   "metadata": {},
   "outputs": [
    {
     "data": {
      "image/png": "[encoded data removed]",
      "text/plain": [
       "<Figure size 432x288 with 1 Axes>"
      ]
     },
     "metadata": {
      "needs_background": "light"
     },
     "output_type": "display_data"
    },
    {
     "data": {
      "image/png": "[encoded data removed]",
      "text/plain": [
       "<Figure size 432x288 with 1 Axes>"
      ]
     },
     "metadata": {
      "needs_background": "light"
     },
     "output_type": "display_data"
    }
   ],
   "source": [
    "#autocorrelation plot\n",
    "\n",
    "from statsmodels.graphics.tsaplots import plot_acf, plot_pacf\n",
    "au_cor = plot_acf(dif_d, lags=10)\n",
    "pacf = plot_pacf(dif_d, lags=10)"
   ]
  },
  {
   "cell_type": "code",
   "execution_count": 42,
   "metadata": {},
   "outputs": [
    {
     "data": {
      "text/html": [
       "<table class=\"simpletable\">\n",
       "<caption>SARIMAX Results</caption>\n",
       "<tr>\n",
       "  <th>Dep. Variable:</th>           <td>y</td>        <th>  No. Observations:  </th>    <td>450</td>  \n",
       "</tr>\n",
       "<tr>\n",
       "  <th>Model:</th>            <td>ARIMA(1, 0, 2)</td>  <th>  Log Likelihood     </th> <td>-963.464</td>\n",
       "</tr>\n",
       "<tr>\n",
       "  <th>Date:</th>            <td>Fri, 23 Apr 2021</td> <th>  AIC                </th> <td>1936.928</td>\n",
       "</tr>\n",
       "<tr>\n",
       "  <th>Time:</th>                <td>09:08:25</td>     <th>  BIC                </th> <td>1957.474</td>\n",
       "</tr>\n",
       "<tr>\n",
       "  <th>Sample:</th>                  <td>0</td>        <th>  HQIC               </th> <td>1945.026</td>\n",
       "</tr>\n",
       "<tr>\n",
       "  <th></th>                      <td> - 450</td>      <th>                     </th>     <td> </td>   \n",
       "</tr>\n",
       "<tr>\n",
       "  <th>Covariance Type:</th>        <td>opg</td>       <th>                     </th>     <td> </td>   \n",
       "</tr>\n",
       "</table>\n",
       "<table class=\"simpletable\">\n",
       "<tr>\n",
       "     <td></td>       <th>coef</th>     <th>std err</th>      <th>z</th>      <th>P>|z|</th>  <th>[0.025</th>    <th>0.975]</th>  \n",
       "</tr>\n",
       "<tr>\n",
       "  <th>const</th>  <td>   -0.1346</td> <td>    0.438</td> <td>   -0.307</td> <td> 0.758</td> <td>   -0.992</td> <td>    0.723</td>\n",
       "</tr>\n",
       "<tr>\n",
       "  <th>ar.L1</th>  <td>    0.5714</td> <td>    0.055</td> <td>   10.345</td> <td> 0.000</td> <td>    0.463</td> <td>    0.680</td>\n",
       "</tr>\n",
       "<tr>\n",
       "  <th>ma.L1</th>  <td>    0.5641</td> <td>    0.064</td> <td>    8.830</td> <td> 0.000</td> <td>    0.439</td> <td>    0.689</td>\n",
       "</tr>\n",
       "<tr>\n",
       "  <th>ma.L2</th>  <td>    0.3635</td> <td>    0.057</td> <td>    6.411</td> <td> 0.000</td> <td>    0.252</td> <td>    0.475</td>\n",
       "</tr>\n",
       "<tr>\n",
       "  <th>sigma2</th> <td>    4.2234</td> <td>    0.295</td> <td>   14.303</td> <td> 0.000</td> <td>    3.645</td> <td>    4.802</td>\n",
       "</tr>\n",
       "</table>\n",
       "<table class=\"simpletable\">\n",
       "<tr>\n",
       "  <th>Ljung-Box (L1) (Q):</th>     <td>0.04</td> <th>  Jarque-Bera (JB):  </th> <td>1.97</td> \n",
       "</tr>\n",
       "<tr>\n",
       "  <th>Prob(Q):</th>                <td>0.84</td> <th>  Prob(JB):          </th> <td>0.37</td> \n",
       "</tr>\n",
       "<tr>\n",
       "  <th>Heteroskedasticity (H):</th> <td>1.13</td> <th>  Skew:              </th> <td>-0.14</td>\n",
       "</tr>\n",
       "<tr>\n",
       "  <th>Prob(H) (two-sided):</th>    <td>0.46</td> <th>  Kurtosis:          </th> <td>2.85</td> \n",
       "</tr>\n",
       "</table><br/><br/>Warnings:<br/>[1] Covariance matrix calculated using the outer product of gradients (complex-step)."
      ],
      "text/plain": [
       "<class 'statsmodels.iolib.summary.Summary'>\n",
       "\"\"\"\n",
       "                               SARIMAX Results                                \n",
       "==============================================================================\n",
       "Dep. Variable:                      y   No. Observations:                  450\n",
       "Model:                 ARIMA(1, 0, 2)   Log Likelihood                -963.464\n",
       "Date:                Fri, 23 Apr 2021   AIC                           1936.928\n",
       "Time:                        09:08:25   BIC                           1957.474\n",
       "Sample:                             0   HQIC                          1945.026\n",
       "                                - 450                                         \n",
       "Covariance Type:                  opg                                         \n",
       "==============================================================================\n",
       "                 coef    std err          z      P>|z|      [0.025      0.975]\n",
       "------------------------------------------------------------------------------\n",
       "const         -0.1346      0.438     -0.307      0.758      -0.992       0.723\n",
       "ar.L1          0.5714      0.055     10.345      0.000       0.463       0.680\n",
       "ma.L1          0.5641      0.064      8.830      0.000       0.439       0.689\n",
       "ma.L2          0.3635      0.057      6.411      0.000       0.252       0.475\n",
       "sigma2         4.2234      0.295     14.303      0.000       3.645       4.802\n",
       "===================================================================================\n",
       "Ljung-Box (L1) (Q):                   0.04   Jarque-Bera (JB):                 1.97\n",
       "Prob(Q):                              0.84   Prob(JB):                         0.37\n",
       "Heteroskedasticity (H):               1.13   Skew:                            -0.14\n",
       "Prob(H) (two-sided):                  0.46   Kurtosis:                         2.85\n",
       "===================================================================================\n",
       "\n",
       "Warnings:\n",
       "[1] Covariance matrix calculated using the outer product of gradients (complex-step).\n",
       "\"\"\""
      ]
     },
     "execution_count": 42,
     "metadata": {},
     "output_type": "execute_result"
    }
   ],
   "source": [
    "from statsmodels.tsa.arima.model import ARIMA\n",
    "#Model 1 ARMA 2,2\n",
    "\n",
    "two_two = ARIMA(dif_d, order=(1, 0, 2)).fit()\n",
    "two_two.summary()"
   ]
  },
  {
   "cell_type": "code",
   "execution_count": 43,
   "metadata": {},
   "outputs": [
    {
     "data": {
      "text/html": [
       "<table class=\"simpletable\">\n",
       "<caption>SARIMAX Results</caption>\n",
       "<tr>\n",
       "  <th>Dep. Variable:</th>           <td>y</td>        <th>  No. Observations:  </th>    <td>450</td>  \n",
       "</tr>\n",
       "<tr>\n",
       "  <th>Model:</th>            <td>ARIMA(2, 0, 2)</td>  <th>  Log Likelihood     </th> <td>-963.268</td>\n",
       "</tr>\n",
       "<tr>\n",
       "  <th>Date:</th>            <td>Fri, 23 Apr 2021</td> <th>  AIC                </th> <td>1938.535</td>\n",
       "</tr>\n",
       "<tr>\n",
       "  <th>Time:</th>                <td>09:08:25</td>     <th>  BIC                </th> <td>1963.191</td>\n",
       "</tr>\n",
       "<tr>\n",
       "  <th>Sample:</th>                  <td>0</td>        <th>  HQIC               </th> <td>1948.253</td>\n",
       "</tr>\n",
       "<tr>\n",
       "  <th></th>                      <td> - 450</td>      <th>                     </th>     <td> </td>   \n",
       "</tr>\n",
       "<tr>\n",
       "  <th>Covariance Type:</th>        <td>opg</td>       <th>                     </th>     <td> </td>   \n",
       "</tr>\n",
       "</table>\n",
       "<table class=\"simpletable\">\n",
       "<tr>\n",
       "     <td></td>       <th>coef</th>     <th>std err</th>      <th>z</th>      <th>P>|z|</th>  <th>[0.025</th>    <th>0.975]</th>  \n",
       "</tr>\n",
       "<tr>\n",
       "  <th>const</th>  <td>   -0.1348</td> <td>    0.427</td> <td>   -0.316</td> <td> 0.752</td> <td>   -0.971</td> <td>    0.701</td>\n",
       "</tr>\n",
       "<tr>\n",
       "  <th>ar.L1</th>  <td>    0.6383</td> <td>    0.167</td> <td>    3.822</td> <td> 0.000</td> <td>    0.311</td> <td>    0.966</td>\n",
       "</tr>\n",
       "<tr>\n",
       "  <th>ar.L2</th>  <td>   -0.0627</td> <td>    0.130</td> <td>   -0.480</td> <td> 0.631</td> <td>   -0.318</td> <td>    0.193</td>\n",
       "</tr>\n",
       "<tr>\n",
       "  <th>ma.L1</th>  <td>    0.5052</td> <td>    0.160</td> <td>    3.161</td> <td> 0.002</td> <td>    0.192</td> <td>    0.818</td>\n",
       "</tr>\n",
       "<tr>\n",
       "  <th>ma.L2</th>  <td>    0.3506</td> <td>    0.072</td> <td>    4.843</td> <td> 0.000</td> <td>    0.209</td> <td>    0.493</td>\n",
       "</tr>\n",
       "<tr>\n",
       "  <th>sigma2</th> <td>    4.2196</td> <td>    0.295</td> <td>   14.319</td> <td> 0.000</td> <td>    3.642</td> <td>    4.797</td>\n",
       "</tr>\n",
       "</table>\n",
       "<table class=\"simpletable\">\n",
       "<tr>\n",
       "  <th>Ljung-Box (L1) (Q):</th>     <td>0.01</td> <th>  Jarque-Bera (JB):  </th> <td>1.81</td> \n",
       "</tr>\n",
       "<tr>\n",
       "  <th>Prob(Q):</th>                <td>0.94</td> <th>  Prob(JB):          </th> <td>0.40</td> \n",
       "</tr>\n",
       "<tr>\n",
       "  <th>Heteroskedasticity (H):</th> <td>1.12</td> <th>  Skew:              </th> <td>-0.14</td>\n",
       "</tr>\n",
       "<tr>\n",
       "  <th>Prob(H) (two-sided):</th>    <td>0.49</td> <th>  Kurtosis:          </th> <td>2.86</td> \n",
       "</tr>\n",
       "</table><br/><br/>Warnings:<br/>[1] Covariance matrix calculated using the outer product of gradients (complex-step)."
      ],
      "text/plain": [
       "<class 'statsmodels.iolib.summary.Summary'>\n",
       "\"\"\"\n",
       "                               SARIMAX Results                                \n",
       "==============================================================================\n",
       "Dep. Variable:                      y   No. Observations:                  450\n",
       "Model:                 ARIMA(2, 0, 2)   Log Likelihood                -963.268\n",
       "Date:                Fri, 23 Apr 2021   AIC                           1938.535\n",
       "Time:                        09:08:25   BIC                           1963.191\n",
       "Sample:                             0   HQIC                          1948.253\n",
       "                                - 450                                         \n",
       "Covariance Type:                  opg                                         \n",
       "==============================================================================\n",
       "                 coef    std err          z      P>|z|      [0.025      0.975]\n",
       "------------------------------------------------------------------------------\n",
       "const         -0.1348      0.427     -0.316      0.752      -0.971       0.701\n",
       "ar.L1          0.6383      0.167      3.822      0.000       0.311       0.966\n",
       "ar.L2         -0.0627      0.130     -0.480      0.631      -0.318       0.193\n",
       "ma.L1          0.5052      0.160      3.161      0.002       0.192       0.818\n",
       "ma.L2          0.3506      0.072      4.843      0.000       0.209       0.493\n",
       "sigma2         4.2196      0.295     14.319      0.000       3.642       4.797\n",
       "===================================================================================\n",
       "Ljung-Box (L1) (Q):                   0.01   Jarque-Bera (JB):                 1.81\n",
       "Prob(Q):                              0.94   Prob(JB):                         0.40\n",
       "Heteroskedasticity (H):               1.12   Skew:                            -0.14\n",
       "Prob(H) (two-sided):                  0.49   Kurtosis:                         2.86\n",
       "===================================================================================\n",
       "\n",
       "Warnings:\n",
       "[1] Covariance matrix calculated using the outer product of gradients (complex-step).\n",
       "\"\"\""
      ]
     },
     "execution_count": 43,
     "metadata": {},
     "output_type": "execute_result"
    }
   ],
   "source": [
    "two_three = ARIMA(dif_d, order=(2, 0, 2)).fit()\n",
    "two_three.summary()"
   ]
  },
  {
   "cell_type": "code",
   "execution_count": 99,
   "metadata": {},
   "outputs": [
    {
     "data": {
      "text/plain": [
       "(0.10436921724303022,\n",
       " 0.1205888294987401,\n",
       " 0.6661595819704594,\n",
       " 0.7124077113153309,\n",
       " 0.8757842718676608,\n",
       " 0.9045368961806383)"
      ]
     },
     "execution_count": 99,
     "metadata": {},
     "output_type": "execute_result"
    }
   ],
   "source": [
    "#Diagnostique\n",
    "\n",
    "#heteroskedasticity exog\n",
    "\n",
    "h_tt = sm.stats.diagnostic.het_breuschpagan(two_two.resid, dif_d)\n",
    "h_tth = sm.stats.diagnostic.het_breuschpagan(two_three.resid, dif_d)\n",
    "a_ot = sm.stats.diagnostic.het_arch(two_two.resid, nlags=1)\n",
    "a_ot2 = sm.stats.diagnostic.het_arch(two_two.resid, nlags=2)\n",
    "a_tt = sm.stats.diagnostic.het_arch(two_three.resid, nlags=1)\n",
    "a_tt2 = sm.stats.diagnostic.het_arch(two_three.resid, nlags=2)\n",
    "h_tt[-1], h_tth[-1], a_ot[1], a_tt[1], a_ot2[1], a_tt2[1]"
   ]
  },
  {
   "cell_type": "code",
   "execution_count": 85,
   "metadata": {},
   "outputs": [
    {
     "data": {
      "text/plain": [
       "(5.393049670342771, 5.385246433574703)"
      ]
     },
     "execution_count": 85,
     "metadata": {},
     "output_type": "execute_result"
    }
   ],
   "source": [
    "#Prev\n",
    "forecast_d = five_data[:int(len(five_data) * 0.1) + 1].to_numpy()\n",
    "forecast_d = -np.diff(forecast_d, axis=0)\n",
    "pred_onetwo = two_two.forecast(50)\n",
    "pred_twotwo = two_three.forecast(50)\n",
    "em_onetwo = np.mean((pred_onetwo - forecast_d) ** 2)\n",
    "em_twotwo = np.mean((pred_twotwo - forecast_d) ** 2)\n",
    "em_onetwo, em_twotwo"
   ]
  },
  {
   "cell_type": "code",
   "execution_count": 86,
   "metadata": {},
   "outputs": [
    {
     "data": {
      "text/plain": [
       "1.0014490027270466"
      ]
     },
     "execution_count": 86,
     "metadata": {},
     "output_type": "execute_result"
    }
   ],
   "source": [
    "F_t = em_onetwo / em_twotwo\n",
    "F_t"
   ]
  },
  {
   "cell_type": "code",
   "execution_count": 4,
   "metadata": {},
   "outputs": [
    {
     "data": {
      "text/plain": [
       "4.939413335049655e-07"
      ]
     },
     "execution_count": 4,
     "metadata": {},
     "output_type": "execute_result"
    }
   ],
   "source": [
    "stats.f.cdf(0.3723, 108, 93)"
   ]
  },
  {
   "cell_type": "code",
   "execution_count": null,
   "metadata": {},
   "outputs": [],
   "source": []
  }
 ],
 "metadata": {
  "kernelspec": {
   "display_name": "Python 3",
   "language": "python",
   "name": "python3"
  },
  "language_info": {
   "codemirror_mode": {
    "name": "ipython",
    "version": 3
   },
   "file_extension": ".py",
   "mimetype": "text/x-python",
   "name": "python",
   "nbconvert_exporter": "python",
   "pygments_lexer": "ipython3",
   "version": "3.7.0"
  }
 },
 "nbformat": 4,
 "nbformat_minor": 4
}
